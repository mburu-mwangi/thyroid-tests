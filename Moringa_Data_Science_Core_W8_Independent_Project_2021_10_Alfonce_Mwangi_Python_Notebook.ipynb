{
  "nbformat": 4,
  "nbformat_minor": 0,
  "metadata": {
    "colab": {
      "name": "Moringa_Data_Science_Core_W8_Independent_Project_2021_10_Alfonce_Mwangi_Python_Notebook.ipynb",
      "provenance": [],
      "authorship_tag": "ABX9TyPJNUV+GHadg15T+Kioi2Co",
      "include_colab_link": true
    },
    "kernelspec": {
      "name": "python3",
      "display_name": "Python 3"
    },
    "language_info": {
      "name": "python"
    }
  },
  "cells": [
    {
      "cell_type": "markdown",
      "metadata": {
        "id": "view-in-github",
        "colab_type": "text"
      },
      "source": [
        "<a href=\"https://colab.research.google.com/github/mburu-mwangi/thyroid-tests/blob/main/Moringa_Data_Science_Core_W8_Independent_Project_2021_10_Alfonce_Mwangi_Python_Notebook.ipynb\" target=\"_parent\"><img src=\"https://colab.research.google.com/assets/colab-badge.svg\" alt=\"Open In Colab\"/></a>"
      ]
    },
    {
      "cell_type": "markdown",
      "metadata": {
        "id": "kLG2VTrnTvYL"
      },
      "source": [
        "## 1. Defining the Question"
      ]
    },
    {
      "cell_type": "markdown",
      "metadata": {
        "id": "XecOwPNorl2W"
      },
      "source": [
        "### a) Specifying the Data Analytic Question"
      ]
    },
    {
      "cell_type": "markdown",
      "metadata": {
        "id": "9ozBnKfehSAw"
      },
      "source": [
        "> During production, The Wine Company, would like to determine the quality of its red wine based on several characteristics. Build a model to predict the quality of wine correctly. You can reduce the data using either PCA or LDA algorithms."
      ]
    },
    {
      "cell_type": "markdown",
      "metadata": {
        "id": "J4wfHZwQrs-t"
      },
      "source": [
        "### b) Defining the Metric for Success"
      ]
    },
    {
      "cell_type": "markdown",
      "metadata": {
        "id": "a9BPYqunry97"
      },
      "source": [
        "### c) Understanding the context "
      ]
    },
    {
      "cell_type": "markdown",
      "metadata": {
        "id": "7KMRBJ7zr9HD"
      },
      "source": [
        "### d) Recording the Experimental Design"
      ]
    },
    {
      "cell_type": "markdown",
      "metadata": {
        "id": "zSGyg6kWsBUl"
      },
      "source": [
        "### e) Data Relevance"
      ]
    },
    {
      "cell_type": "markdown",
      "metadata": {
        "id": "iUNbvIvnT7ep"
      },
      "source": [
        "## 2. Reading the Data"
      ]
    },
    {
      "cell_type": "markdown",
      "metadata": {
        "id": "l0i5OvPgXoFK"
      },
      "source": [
        "### Importing the various libraries needed"
      ]
    },
    {
      "cell_type": "code",
      "metadata": {
        "id": "spwlOoMeXwbM"
      },
      "source": [
        "# analysis tools\n",
        "import pandas as pd\n",
        "import numpy as np\n",
        "import scipy.stats as stats\n",
        "\n",
        "# visualization tools\n",
        "import matplotlib.pyplot as plt\n",
        "import seaborn as sns\n",
        "\n",
        "%matplotlib inline"
      ],
      "execution_count": 500,
      "outputs": []
    },
    {
      "cell_type": "markdown",
      "metadata": {
        "id": "GZ355lUx3I_v"
      },
      "source": [
        "### Function Toolbox"
      ]
    },
    {
      "cell_type": "code",
      "metadata": {
        "id": "2WJMph7eZXiM"
      },
      "source": [
        "# sns.set(rc = {'figure.figsize':(15,15)})"
      ],
      "execution_count": 501,
      "outputs": []
    },
    {
      "cell_type": "markdown",
      "metadata": {
        "id": "C3-EL2RBYI_L"
      },
      "source": [
        "### Loading the datasets\n"
      ]
    },
    {
      "cell_type": "code",
      "metadata": {
        "id": "XJn2KjW-WMlG",
        "colab": {
          "base_uri": "https://localhost:8080/",
          "height": 223
        },
        "outputId": "726170e1-423f-416f-e454-2a862971b8fd"
      },
      "source": [
        "# Loading the Data from the source \n",
        "# \n",
        "thyroid_health = pd.read_csv('/content/hypothyroid.csv')\n",
        "\n",
        "thyroid_health.head()"
      ],
      "execution_count": 502,
      "outputs": [
        {
          "output_type": "execute_result",
          "data": {
            "text/html": [
              "<div>\n",
              "<style scoped>\n",
              "    .dataframe tbody tr th:only-of-type {\n",
              "        vertical-align: middle;\n",
              "    }\n",
              "\n",
              "    .dataframe tbody tr th {\n",
              "        vertical-align: top;\n",
              "    }\n",
              "\n",
              "    .dataframe thead th {\n",
              "        text-align: right;\n",
              "    }\n",
              "</style>\n",
              "<table border=\"1\" class=\"dataframe\">\n",
              "  <thead>\n",
              "    <tr style=\"text-align: right;\">\n",
              "      <th></th>\n",
              "      <th>status</th>\n",
              "      <th>age</th>\n",
              "      <th>sex</th>\n",
              "      <th>on_thyroxine</th>\n",
              "      <th>query_on_thyroxine</th>\n",
              "      <th>on_antithyroid_medication</th>\n",
              "      <th>thyroid_surgery</th>\n",
              "      <th>query_hypothyroid</th>\n",
              "      <th>query_hyperthyroid</th>\n",
              "      <th>pregnant</th>\n",
              "      <th>sick</th>\n",
              "      <th>tumor</th>\n",
              "      <th>lithium</th>\n",
              "      <th>goitre</th>\n",
              "      <th>TSH_measured</th>\n",
              "      <th>TSH</th>\n",
              "      <th>T3_measured</th>\n",
              "      <th>T3</th>\n",
              "      <th>TT4_measured</th>\n",
              "      <th>TT4</th>\n",
              "      <th>T4U_measured</th>\n",
              "      <th>T4U</th>\n",
              "      <th>FTI_measured</th>\n",
              "      <th>FTI</th>\n",
              "      <th>TBG_measured</th>\n",
              "      <th>TBG</th>\n",
              "    </tr>\n",
              "  </thead>\n",
              "  <tbody>\n",
              "    <tr>\n",
              "      <th>0</th>\n",
              "      <td>hypothyroid</td>\n",
              "      <td>72</td>\n",
              "      <td>M</td>\n",
              "      <td>f</td>\n",
              "      <td>f</td>\n",
              "      <td>f</td>\n",
              "      <td>f</td>\n",
              "      <td>f</td>\n",
              "      <td>f</td>\n",
              "      <td>f</td>\n",
              "      <td>f</td>\n",
              "      <td>f</td>\n",
              "      <td>f</td>\n",
              "      <td>f</td>\n",
              "      <td>y</td>\n",
              "      <td>30</td>\n",
              "      <td>y</td>\n",
              "      <td>0.60</td>\n",
              "      <td>y</td>\n",
              "      <td>15</td>\n",
              "      <td>y</td>\n",
              "      <td>1.48</td>\n",
              "      <td>y</td>\n",
              "      <td>10</td>\n",
              "      <td>n</td>\n",
              "      <td>?</td>\n",
              "    </tr>\n",
              "    <tr>\n",
              "      <th>1</th>\n",
              "      <td>hypothyroid</td>\n",
              "      <td>15</td>\n",
              "      <td>F</td>\n",
              "      <td>t</td>\n",
              "      <td>f</td>\n",
              "      <td>f</td>\n",
              "      <td>f</td>\n",
              "      <td>f</td>\n",
              "      <td>f</td>\n",
              "      <td>f</td>\n",
              "      <td>f</td>\n",
              "      <td>f</td>\n",
              "      <td>f</td>\n",
              "      <td>f</td>\n",
              "      <td>y</td>\n",
              "      <td>145</td>\n",
              "      <td>y</td>\n",
              "      <td>1.70</td>\n",
              "      <td>y</td>\n",
              "      <td>19</td>\n",
              "      <td>y</td>\n",
              "      <td>1.13</td>\n",
              "      <td>y</td>\n",
              "      <td>17</td>\n",
              "      <td>n</td>\n",
              "      <td>?</td>\n",
              "    </tr>\n",
              "    <tr>\n",
              "      <th>2</th>\n",
              "      <td>hypothyroid</td>\n",
              "      <td>24</td>\n",
              "      <td>M</td>\n",
              "      <td>f</td>\n",
              "      <td>f</td>\n",
              "      <td>f</td>\n",
              "      <td>f</td>\n",
              "      <td>f</td>\n",
              "      <td>f</td>\n",
              "      <td>f</td>\n",
              "      <td>f</td>\n",
              "      <td>f</td>\n",
              "      <td>f</td>\n",
              "      <td>f</td>\n",
              "      <td>y</td>\n",
              "      <td>0</td>\n",
              "      <td>y</td>\n",
              "      <td>0.20</td>\n",
              "      <td>y</td>\n",
              "      <td>4</td>\n",
              "      <td>y</td>\n",
              "      <td>1</td>\n",
              "      <td>y</td>\n",
              "      <td>0</td>\n",
              "      <td>n</td>\n",
              "      <td>?</td>\n",
              "    </tr>\n",
              "    <tr>\n",
              "      <th>3</th>\n",
              "      <td>hypothyroid</td>\n",
              "      <td>24</td>\n",
              "      <td>F</td>\n",
              "      <td>f</td>\n",
              "      <td>f</td>\n",
              "      <td>f</td>\n",
              "      <td>f</td>\n",
              "      <td>f</td>\n",
              "      <td>f</td>\n",
              "      <td>f</td>\n",
              "      <td>f</td>\n",
              "      <td>f</td>\n",
              "      <td>f</td>\n",
              "      <td>f</td>\n",
              "      <td>y</td>\n",
              "      <td>430</td>\n",
              "      <td>y</td>\n",
              "      <td>0.40</td>\n",
              "      <td>y</td>\n",
              "      <td>6</td>\n",
              "      <td>y</td>\n",
              "      <td>1.04</td>\n",
              "      <td>y</td>\n",
              "      <td>6</td>\n",
              "      <td>n</td>\n",
              "      <td>?</td>\n",
              "    </tr>\n",
              "    <tr>\n",
              "      <th>4</th>\n",
              "      <td>hypothyroid</td>\n",
              "      <td>77</td>\n",
              "      <td>M</td>\n",
              "      <td>f</td>\n",
              "      <td>f</td>\n",
              "      <td>f</td>\n",
              "      <td>f</td>\n",
              "      <td>f</td>\n",
              "      <td>f</td>\n",
              "      <td>f</td>\n",
              "      <td>f</td>\n",
              "      <td>f</td>\n",
              "      <td>f</td>\n",
              "      <td>f</td>\n",
              "      <td>y</td>\n",
              "      <td>7.30</td>\n",
              "      <td>y</td>\n",
              "      <td>1.20</td>\n",
              "      <td>y</td>\n",
              "      <td>57</td>\n",
              "      <td>y</td>\n",
              "      <td>1.28</td>\n",
              "      <td>y</td>\n",
              "      <td>44</td>\n",
              "      <td>n</td>\n",
              "      <td>?</td>\n",
              "    </tr>\n",
              "  </tbody>\n",
              "</table>\n",
              "</div>"
            ],
            "text/plain": [
              "        status age sex on_thyroxine  ... FTI_measured FTI TBG_measured TBG\n",
              "0  hypothyroid  72   M            f  ...            y  10            n   ?\n",
              "1  hypothyroid  15   F            t  ...            y  17            n   ?\n",
              "2  hypothyroid  24   M            f  ...            y   0            n   ?\n",
              "3  hypothyroid  24   F            f  ...            y   6            n   ?\n",
              "4  hypothyroid  77   M            f  ...            y  44            n   ?\n",
              "\n",
              "[5 rows x 26 columns]"
            ]
          },
          "metadata": {},
          "execution_count": 502
        }
      ]
    },
    {
      "cell_type": "markdown",
      "metadata": {
        "id": "OI3P3YnHUEBk"
      },
      "source": [
        "## 3. Checking the Data"
      ]
    },
    {
      "cell_type": "code",
      "metadata": {
        "id": "YjSVNwgptHxY",
        "colab": {
          "base_uri": "https://localhost:8080/"
        },
        "outputId": "df7e58b7-c58f-463f-98fd-4f4717579b58"
      },
      "source": [
        "# Determining the no. of records in our dataset\n",
        "#\n",
        "print('The Thyroid Health dataset has: ',thyroid_health.shape[0],'Rows and ',thyroid_health.shape[1],'Columns')"
      ],
      "execution_count": 503,
      "outputs": [
        {
          "output_type": "stream",
          "name": "stdout",
          "text": [
            "The Thyroid Health dataset has:  3163 Rows and  26 Columns\n"
          ]
        }
      ]
    },
    {
      "cell_type": "code",
      "metadata": {
        "id": "xHhTw5eKWr0n",
        "colab": {
          "base_uri": "https://localhost:8080/",
          "height": 223
        },
        "outputId": "59bce81e-510a-4d4f-b623-e8a4130abf3d"
      },
      "source": [
        "# Previewing the top of our dataset\n",
        "#\n",
        "thyroid_health.head()"
      ],
      "execution_count": 504,
      "outputs": [
        {
          "output_type": "execute_result",
          "data": {
            "text/html": [
              "<div>\n",
              "<style scoped>\n",
              "    .dataframe tbody tr th:only-of-type {\n",
              "        vertical-align: middle;\n",
              "    }\n",
              "\n",
              "    .dataframe tbody tr th {\n",
              "        vertical-align: top;\n",
              "    }\n",
              "\n",
              "    .dataframe thead th {\n",
              "        text-align: right;\n",
              "    }\n",
              "</style>\n",
              "<table border=\"1\" class=\"dataframe\">\n",
              "  <thead>\n",
              "    <tr style=\"text-align: right;\">\n",
              "      <th></th>\n",
              "      <th>status</th>\n",
              "      <th>age</th>\n",
              "      <th>sex</th>\n",
              "      <th>on_thyroxine</th>\n",
              "      <th>query_on_thyroxine</th>\n",
              "      <th>on_antithyroid_medication</th>\n",
              "      <th>thyroid_surgery</th>\n",
              "      <th>query_hypothyroid</th>\n",
              "      <th>query_hyperthyroid</th>\n",
              "      <th>pregnant</th>\n",
              "      <th>sick</th>\n",
              "      <th>tumor</th>\n",
              "      <th>lithium</th>\n",
              "      <th>goitre</th>\n",
              "      <th>TSH_measured</th>\n",
              "      <th>TSH</th>\n",
              "      <th>T3_measured</th>\n",
              "      <th>T3</th>\n",
              "      <th>TT4_measured</th>\n",
              "      <th>TT4</th>\n",
              "      <th>T4U_measured</th>\n",
              "      <th>T4U</th>\n",
              "      <th>FTI_measured</th>\n",
              "      <th>FTI</th>\n",
              "      <th>TBG_measured</th>\n",
              "      <th>TBG</th>\n",
              "    </tr>\n",
              "  </thead>\n",
              "  <tbody>\n",
              "    <tr>\n",
              "      <th>0</th>\n",
              "      <td>hypothyroid</td>\n",
              "      <td>72</td>\n",
              "      <td>M</td>\n",
              "      <td>f</td>\n",
              "      <td>f</td>\n",
              "      <td>f</td>\n",
              "      <td>f</td>\n",
              "      <td>f</td>\n",
              "      <td>f</td>\n",
              "      <td>f</td>\n",
              "      <td>f</td>\n",
              "      <td>f</td>\n",
              "      <td>f</td>\n",
              "      <td>f</td>\n",
              "      <td>y</td>\n",
              "      <td>30</td>\n",
              "      <td>y</td>\n",
              "      <td>0.60</td>\n",
              "      <td>y</td>\n",
              "      <td>15</td>\n",
              "      <td>y</td>\n",
              "      <td>1.48</td>\n",
              "      <td>y</td>\n",
              "      <td>10</td>\n",
              "      <td>n</td>\n",
              "      <td>?</td>\n",
              "    </tr>\n",
              "    <tr>\n",
              "      <th>1</th>\n",
              "      <td>hypothyroid</td>\n",
              "      <td>15</td>\n",
              "      <td>F</td>\n",
              "      <td>t</td>\n",
              "      <td>f</td>\n",
              "      <td>f</td>\n",
              "      <td>f</td>\n",
              "      <td>f</td>\n",
              "      <td>f</td>\n",
              "      <td>f</td>\n",
              "      <td>f</td>\n",
              "      <td>f</td>\n",
              "      <td>f</td>\n",
              "      <td>f</td>\n",
              "      <td>y</td>\n",
              "      <td>145</td>\n",
              "      <td>y</td>\n",
              "      <td>1.70</td>\n",
              "      <td>y</td>\n",
              "      <td>19</td>\n",
              "      <td>y</td>\n",
              "      <td>1.13</td>\n",
              "      <td>y</td>\n",
              "      <td>17</td>\n",
              "      <td>n</td>\n",
              "      <td>?</td>\n",
              "    </tr>\n",
              "    <tr>\n",
              "      <th>2</th>\n",
              "      <td>hypothyroid</td>\n",
              "      <td>24</td>\n",
              "      <td>M</td>\n",
              "      <td>f</td>\n",
              "      <td>f</td>\n",
              "      <td>f</td>\n",
              "      <td>f</td>\n",
              "      <td>f</td>\n",
              "      <td>f</td>\n",
              "      <td>f</td>\n",
              "      <td>f</td>\n",
              "      <td>f</td>\n",
              "      <td>f</td>\n",
              "      <td>f</td>\n",
              "      <td>y</td>\n",
              "      <td>0</td>\n",
              "      <td>y</td>\n",
              "      <td>0.20</td>\n",
              "      <td>y</td>\n",
              "      <td>4</td>\n",
              "      <td>y</td>\n",
              "      <td>1</td>\n",
              "      <td>y</td>\n",
              "      <td>0</td>\n",
              "      <td>n</td>\n",
              "      <td>?</td>\n",
              "    </tr>\n",
              "    <tr>\n",
              "      <th>3</th>\n",
              "      <td>hypothyroid</td>\n",
              "      <td>24</td>\n",
              "      <td>F</td>\n",
              "      <td>f</td>\n",
              "      <td>f</td>\n",
              "      <td>f</td>\n",
              "      <td>f</td>\n",
              "      <td>f</td>\n",
              "      <td>f</td>\n",
              "      <td>f</td>\n",
              "      <td>f</td>\n",
              "      <td>f</td>\n",
              "      <td>f</td>\n",
              "      <td>f</td>\n",
              "      <td>y</td>\n",
              "      <td>430</td>\n",
              "      <td>y</td>\n",
              "      <td>0.40</td>\n",
              "      <td>y</td>\n",
              "      <td>6</td>\n",
              "      <td>y</td>\n",
              "      <td>1.04</td>\n",
              "      <td>y</td>\n",
              "      <td>6</td>\n",
              "      <td>n</td>\n",
              "      <td>?</td>\n",
              "    </tr>\n",
              "    <tr>\n",
              "      <th>4</th>\n",
              "      <td>hypothyroid</td>\n",
              "      <td>77</td>\n",
              "      <td>M</td>\n",
              "      <td>f</td>\n",
              "      <td>f</td>\n",
              "      <td>f</td>\n",
              "      <td>f</td>\n",
              "      <td>f</td>\n",
              "      <td>f</td>\n",
              "      <td>f</td>\n",
              "      <td>f</td>\n",
              "      <td>f</td>\n",
              "      <td>f</td>\n",
              "      <td>f</td>\n",
              "      <td>y</td>\n",
              "      <td>7.30</td>\n",
              "      <td>y</td>\n",
              "      <td>1.20</td>\n",
              "      <td>y</td>\n",
              "      <td>57</td>\n",
              "      <td>y</td>\n",
              "      <td>1.28</td>\n",
              "      <td>y</td>\n",
              "      <td>44</td>\n",
              "      <td>n</td>\n",
              "      <td>?</td>\n",
              "    </tr>\n",
              "  </tbody>\n",
              "</table>\n",
              "</div>"
            ],
            "text/plain": [
              "        status age sex on_thyroxine  ... FTI_measured FTI TBG_measured TBG\n",
              "0  hypothyroid  72   M            f  ...            y  10            n   ?\n",
              "1  hypothyroid  15   F            t  ...            y  17            n   ?\n",
              "2  hypothyroid  24   M            f  ...            y   0            n   ?\n",
              "3  hypothyroid  24   F            f  ...            y   6            n   ?\n",
              "4  hypothyroid  77   M            f  ...            y  44            n   ?\n",
              "\n",
              "[5 rows x 26 columns]"
            ]
          },
          "metadata": {},
          "execution_count": 504
        }
      ]
    },
    {
      "cell_type": "code",
      "metadata": {
        "id": "e9AzGcZFrIIr",
        "colab": {
          "base_uri": "https://localhost:8080/",
          "height": 223
        },
        "outputId": "71fc0128-2cc7-4027-9c40-51de730fdf45"
      },
      "source": [
        "# Previewing the bottom of our dataset\n",
        "# \n",
        "thyroid_health.tail()"
      ],
      "execution_count": 505,
      "outputs": [
        {
          "output_type": "execute_result",
          "data": {
            "text/html": [
              "<div>\n",
              "<style scoped>\n",
              "    .dataframe tbody tr th:only-of-type {\n",
              "        vertical-align: middle;\n",
              "    }\n",
              "\n",
              "    .dataframe tbody tr th {\n",
              "        vertical-align: top;\n",
              "    }\n",
              "\n",
              "    .dataframe thead th {\n",
              "        text-align: right;\n",
              "    }\n",
              "</style>\n",
              "<table border=\"1\" class=\"dataframe\">\n",
              "  <thead>\n",
              "    <tr style=\"text-align: right;\">\n",
              "      <th></th>\n",
              "      <th>status</th>\n",
              "      <th>age</th>\n",
              "      <th>sex</th>\n",
              "      <th>on_thyroxine</th>\n",
              "      <th>query_on_thyroxine</th>\n",
              "      <th>on_antithyroid_medication</th>\n",
              "      <th>thyroid_surgery</th>\n",
              "      <th>query_hypothyroid</th>\n",
              "      <th>query_hyperthyroid</th>\n",
              "      <th>pregnant</th>\n",
              "      <th>sick</th>\n",
              "      <th>tumor</th>\n",
              "      <th>lithium</th>\n",
              "      <th>goitre</th>\n",
              "      <th>TSH_measured</th>\n",
              "      <th>TSH</th>\n",
              "      <th>T3_measured</th>\n",
              "      <th>T3</th>\n",
              "      <th>TT4_measured</th>\n",
              "      <th>TT4</th>\n",
              "      <th>T4U_measured</th>\n",
              "      <th>T4U</th>\n",
              "      <th>FTI_measured</th>\n",
              "      <th>FTI</th>\n",
              "      <th>TBG_measured</th>\n",
              "      <th>TBG</th>\n",
              "    </tr>\n",
              "  </thead>\n",
              "  <tbody>\n",
              "    <tr>\n",
              "      <th>3158</th>\n",
              "      <td>negative</td>\n",
              "      <td>58</td>\n",
              "      <td>F</td>\n",
              "      <td>f</td>\n",
              "      <td>f</td>\n",
              "      <td>f</td>\n",
              "      <td>f</td>\n",
              "      <td>f</td>\n",
              "      <td>f</td>\n",
              "      <td>f</td>\n",
              "      <td>f</td>\n",
              "      <td>f</td>\n",
              "      <td>f</td>\n",
              "      <td>f</td>\n",
              "      <td>y</td>\n",
              "      <td>5.80</td>\n",
              "      <td>y</td>\n",
              "      <td>1.70</td>\n",
              "      <td>y</td>\n",
              "      <td>86</td>\n",
              "      <td>y</td>\n",
              "      <td>0.91</td>\n",
              "      <td>y</td>\n",
              "      <td>95</td>\n",
              "      <td>n</td>\n",
              "      <td>?</td>\n",
              "    </tr>\n",
              "    <tr>\n",
              "      <th>3159</th>\n",
              "      <td>negative</td>\n",
              "      <td>29</td>\n",
              "      <td>F</td>\n",
              "      <td>f</td>\n",
              "      <td>f</td>\n",
              "      <td>f</td>\n",
              "      <td>f</td>\n",
              "      <td>f</td>\n",
              "      <td>f</td>\n",
              "      <td>f</td>\n",
              "      <td>f</td>\n",
              "      <td>f</td>\n",
              "      <td>f</td>\n",
              "      <td>f</td>\n",
              "      <td>y</td>\n",
              "      <td>0.80</td>\n",
              "      <td>y</td>\n",
              "      <td>1.80</td>\n",
              "      <td>y</td>\n",
              "      <td>99</td>\n",
              "      <td>y</td>\n",
              "      <td>1.01</td>\n",
              "      <td>y</td>\n",
              "      <td>98</td>\n",
              "      <td>n</td>\n",
              "      <td>?</td>\n",
              "    </tr>\n",
              "    <tr>\n",
              "      <th>3160</th>\n",
              "      <td>negative</td>\n",
              "      <td>77</td>\n",
              "      <td>M</td>\n",
              "      <td>f</td>\n",
              "      <td>f</td>\n",
              "      <td>f</td>\n",
              "      <td>f</td>\n",
              "      <td>f</td>\n",
              "      <td>f</td>\n",
              "      <td>f</td>\n",
              "      <td>f</td>\n",
              "      <td>f</td>\n",
              "      <td>f</td>\n",
              "      <td>f</td>\n",
              "      <td>y</td>\n",
              "      <td>1.20</td>\n",
              "      <td>y</td>\n",
              "      <td>0.60</td>\n",
              "      <td>y</td>\n",
              "      <td>71</td>\n",
              "      <td>y</td>\n",
              "      <td>0.68</td>\n",
              "      <td>y</td>\n",
              "      <td>104</td>\n",
              "      <td>n</td>\n",
              "      <td>?</td>\n",
              "    </tr>\n",
              "    <tr>\n",
              "      <th>3161</th>\n",
              "      <td>negative</td>\n",
              "      <td>74</td>\n",
              "      <td>F</td>\n",
              "      <td>f</td>\n",
              "      <td>f</td>\n",
              "      <td>f</td>\n",
              "      <td>f</td>\n",
              "      <td>f</td>\n",
              "      <td>f</td>\n",
              "      <td>f</td>\n",
              "      <td>f</td>\n",
              "      <td>f</td>\n",
              "      <td>f</td>\n",
              "      <td>f</td>\n",
              "      <td>y</td>\n",
              "      <td>1.30</td>\n",
              "      <td>y</td>\n",
              "      <td>0.10</td>\n",
              "      <td>y</td>\n",
              "      <td>65</td>\n",
              "      <td>y</td>\n",
              "      <td>0.48</td>\n",
              "      <td>y</td>\n",
              "      <td>137</td>\n",
              "      <td>n</td>\n",
              "      <td>?</td>\n",
              "    </tr>\n",
              "    <tr>\n",
              "      <th>3162</th>\n",
              "      <td>negative</td>\n",
              "      <td>56</td>\n",
              "      <td>F</td>\n",
              "      <td>t</td>\n",
              "      <td>f</td>\n",
              "      <td>f</td>\n",
              "      <td>f</td>\n",
              "      <td>f</td>\n",
              "      <td>f</td>\n",
              "      <td>f</td>\n",
              "      <td>f</td>\n",
              "      <td>f</td>\n",
              "      <td>f</td>\n",
              "      <td>f</td>\n",
              "      <td>y</td>\n",
              "      <td>0</td>\n",
              "      <td>y</td>\n",
              "      <td>1.80</td>\n",
              "      <td>y</td>\n",
              "      <td>139</td>\n",
              "      <td>y</td>\n",
              "      <td>0.97</td>\n",
              "      <td>y</td>\n",
              "      <td>143</td>\n",
              "      <td>n</td>\n",
              "      <td>?</td>\n",
              "    </tr>\n",
              "  </tbody>\n",
              "</table>\n",
              "</div>"
            ],
            "text/plain": [
              "        status age sex on_thyroxine  ... FTI_measured  FTI TBG_measured TBG\n",
              "3158  negative  58   F            f  ...            y   95            n   ?\n",
              "3159  negative  29   F            f  ...            y   98            n   ?\n",
              "3160  negative  77   M            f  ...            y  104            n   ?\n",
              "3161  negative  74   F            f  ...            y  137            n   ?\n",
              "3162  negative  56   F            t  ...            y  143            n   ?\n",
              "\n",
              "[5 rows x 26 columns]"
            ]
          },
          "metadata": {},
          "execution_count": 505
        }
      ]
    },
    {
      "cell_type": "code",
      "metadata": {
        "id": "n8-dW4sQWzbc",
        "colab": {
          "base_uri": "https://localhost:8080/"
        },
        "outputId": "eed5f3e3-5704-45db-96c1-5157a3ec0e87"
      },
      "source": [
        "# Checking whether each column has an appropriate datatype\n",
        "#\n",
        "thyroid_health.info()"
      ],
      "execution_count": 506,
      "outputs": [
        {
          "output_type": "stream",
          "name": "stdout",
          "text": [
            "<class 'pandas.core.frame.DataFrame'>\n",
            "RangeIndex: 3163 entries, 0 to 3162\n",
            "Data columns (total 26 columns):\n",
            " #   Column                     Non-Null Count  Dtype \n",
            "---  ------                     --------------  ----- \n",
            " 0   status                     3163 non-null   object\n",
            " 1   age                        3163 non-null   object\n",
            " 2   sex                        3163 non-null   object\n",
            " 3   on_thyroxine               3163 non-null   object\n",
            " 4   query_on_thyroxine         3163 non-null   object\n",
            " 5   on_antithyroid_medication  3163 non-null   object\n",
            " 6   thyroid_surgery            3163 non-null   object\n",
            " 7   query_hypothyroid          3163 non-null   object\n",
            " 8   query_hyperthyroid         3163 non-null   object\n",
            " 9   pregnant                   3163 non-null   object\n",
            " 10  sick                       3163 non-null   object\n",
            " 11  tumor                      3163 non-null   object\n",
            " 12  lithium                    3163 non-null   object\n",
            " 13  goitre                     3163 non-null   object\n",
            " 14  TSH_measured               3163 non-null   object\n",
            " 15  TSH                        3163 non-null   object\n",
            " 16  T3_measured                3163 non-null   object\n",
            " 17  T3                         3163 non-null   object\n",
            " 18  TT4_measured               3163 non-null   object\n",
            " 19  TT4                        3163 non-null   object\n",
            " 20  T4U_measured               3163 non-null   object\n",
            " 21  T4U                        3163 non-null   object\n",
            " 22  FTI_measured               3163 non-null   object\n",
            " 23  FTI                        3163 non-null   object\n",
            " 24  TBG_measured               3163 non-null   object\n",
            " 25  TBG                        3163 non-null   object\n",
            "dtypes: object(26)\n",
            "memory usage: 642.6+ KB\n"
          ]
        }
      ]
    },
    {
      "cell_type": "markdown",
      "metadata": {
        "id": "ckfufNrcUHeH"
      },
      "source": [
        "## 4. External Data Source Validation"
      ]
    },
    {
      "cell_type": "markdown",
      "metadata": {
        "id": "6XC_g-zKxe-r"
      },
      "source": [
        "### a.Validation\n",
        "\n",
        "The following link gives a summary of the various thyroid tests [thyroid_tests](https://https://www.niddk.nih.gov/health-information/diagnostic-tests/thyroid)"
      ]
    },
    {
      "cell_type": "markdown",
      "metadata": {
        "id": "FlBMxEDBUc9B"
      },
      "source": [
        "## 5. Tidying the Dataset"
      ]
    },
    {
      "cell_type": "code",
      "metadata": {
        "colab": {
          "base_uri": "https://localhost:8080/"
        },
        "id": "WagbisK3q-5Q",
        "outputId": "d7f4aa22-6430-47d5-95ca-4234ec39068e"
      },
      "source": [
        "thyroid_health.columns"
      ],
      "execution_count": 507,
      "outputs": [
        {
          "output_type": "execute_result",
          "data": {
            "text/plain": [
              "Index(['status', 'age', 'sex', 'on_thyroxine', 'query_on_thyroxine',\n",
              "       'on_antithyroid_medication', 'thyroid_surgery', 'query_hypothyroid',\n",
              "       'query_hyperthyroid', 'pregnant', 'sick', 'tumor', 'lithium', 'goitre',\n",
              "       'TSH_measured', 'TSH', 'T3_measured', 'T3', 'TT4_measured', 'TT4',\n",
              "       'T4U_measured', 'T4U', 'FTI_measured', 'FTI', 'TBG_measured', 'TBG'],\n",
              "      dtype='object')"
            ]
          },
          "metadata": {},
          "execution_count": 507
        }
      ]
    },
    {
      "cell_type": "code",
      "metadata": {
        "colab": {
          "base_uri": "https://localhost:8080/"
        },
        "id": "lXnBCwwLth9f",
        "outputId": "e1f335f6-e6de-4bdf-cc8e-f81db09abc5a"
      },
      "source": [
        "# Changing the data types for numeric columns to int format\n",
        "#\n",
        "\n",
        "thyroid_health[['age','TSH','T3','TT4','T4U','FTI','TBG']]=thyroid_health[['age','TSH','T3','TT4','T4U','FTI','TBG']].apply(pd.to_numeric,errors='coerce')\n",
        "thyroid_health.dtypes"
      ],
      "execution_count": 508,
      "outputs": [
        {
          "output_type": "execute_result",
          "data": {
            "text/plain": [
              "status                        object\n",
              "age                          float64\n",
              "sex                           object\n",
              "on_thyroxine                  object\n",
              "query_on_thyroxine            object\n",
              "on_antithyroid_medication     object\n",
              "thyroid_surgery               object\n",
              "query_hypothyroid             object\n",
              "query_hyperthyroid            object\n",
              "pregnant                      object\n",
              "sick                          object\n",
              "tumor                         object\n",
              "lithium                       object\n",
              "goitre                        object\n",
              "TSH_measured                  object\n",
              "TSH                          float64\n",
              "T3_measured                   object\n",
              "T3                           float64\n",
              "TT4_measured                  object\n",
              "TT4                          float64\n",
              "T4U_measured                  object\n",
              "T4U                          float64\n",
              "FTI_measured                  object\n",
              "FTI                          float64\n",
              "TBG_measured                  object\n",
              "TBG                          float64\n",
              "dtype: object"
            ]
          },
          "metadata": {},
          "execution_count": 508
        }
      ]
    },
    {
      "cell_type": "code",
      "metadata": {
        "id": "yJl3y8zi9ZEX"
      },
      "source": [
        "df1 = thyroid_health.copy()"
      ],
      "execution_count": 509,
      "outputs": []
    },
    {
      "cell_type": "code",
      "metadata": {
        "colab": {
          "base_uri": "https://localhost:8080/",
          "height": 223
        },
        "id": "h0ZEVHfduL8J",
        "outputId": "17e3f019-257b-439c-98eb-908fa0c7e4ca"
      },
      "source": [
        "thyroid_health.head()"
      ],
      "execution_count": 510,
      "outputs": [
        {
          "output_type": "execute_result",
          "data": {
            "text/html": [
              "<div>\n",
              "<style scoped>\n",
              "    .dataframe tbody tr th:only-of-type {\n",
              "        vertical-align: middle;\n",
              "    }\n",
              "\n",
              "    .dataframe tbody tr th {\n",
              "        vertical-align: top;\n",
              "    }\n",
              "\n",
              "    .dataframe thead th {\n",
              "        text-align: right;\n",
              "    }\n",
              "</style>\n",
              "<table border=\"1\" class=\"dataframe\">\n",
              "  <thead>\n",
              "    <tr style=\"text-align: right;\">\n",
              "      <th></th>\n",
              "      <th>status</th>\n",
              "      <th>age</th>\n",
              "      <th>sex</th>\n",
              "      <th>on_thyroxine</th>\n",
              "      <th>query_on_thyroxine</th>\n",
              "      <th>on_antithyroid_medication</th>\n",
              "      <th>thyroid_surgery</th>\n",
              "      <th>query_hypothyroid</th>\n",
              "      <th>query_hyperthyroid</th>\n",
              "      <th>pregnant</th>\n",
              "      <th>sick</th>\n",
              "      <th>tumor</th>\n",
              "      <th>lithium</th>\n",
              "      <th>goitre</th>\n",
              "      <th>TSH_measured</th>\n",
              "      <th>TSH</th>\n",
              "      <th>T3_measured</th>\n",
              "      <th>T3</th>\n",
              "      <th>TT4_measured</th>\n",
              "      <th>TT4</th>\n",
              "      <th>T4U_measured</th>\n",
              "      <th>T4U</th>\n",
              "      <th>FTI_measured</th>\n",
              "      <th>FTI</th>\n",
              "      <th>TBG_measured</th>\n",
              "      <th>TBG</th>\n",
              "    </tr>\n",
              "  </thead>\n",
              "  <tbody>\n",
              "    <tr>\n",
              "      <th>0</th>\n",
              "      <td>hypothyroid</td>\n",
              "      <td>72.0</td>\n",
              "      <td>M</td>\n",
              "      <td>f</td>\n",
              "      <td>f</td>\n",
              "      <td>f</td>\n",
              "      <td>f</td>\n",
              "      <td>f</td>\n",
              "      <td>f</td>\n",
              "      <td>f</td>\n",
              "      <td>f</td>\n",
              "      <td>f</td>\n",
              "      <td>f</td>\n",
              "      <td>f</td>\n",
              "      <td>y</td>\n",
              "      <td>30.0</td>\n",
              "      <td>y</td>\n",
              "      <td>0.6</td>\n",
              "      <td>y</td>\n",
              "      <td>15.0</td>\n",
              "      <td>y</td>\n",
              "      <td>1.48</td>\n",
              "      <td>y</td>\n",
              "      <td>10.0</td>\n",
              "      <td>n</td>\n",
              "      <td>NaN</td>\n",
              "    </tr>\n",
              "    <tr>\n",
              "      <th>1</th>\n",
              "      <td>hypothyroid</td>\n",
              "      <td>15.0</td>\n",
              "      <td>F</td>\n",
              "      <td>t</td>\n",
              "      <td>f</td>\n",
              "      <td>f</td>\n",
              "      <td>f</td>\n",
              "      <td>f</td>\n",
              "      <td>f</td>\n",
              "      <td>f</td>\n",
              "      <td>f</td>\n",
              "      <td>f</td>\n",
              "      <td>f</td>\n",
              "      <td>f</td>\n",
              "      <td>y</td>\n",
              "      <td>145.0</td>\n",
              "      <td>y</td>\n",
              "      <td>1.7</td>\n",
              "      <td>y</td>\n",
              "      <td>19.0</td>\n",
              "      <td>y</td>\n",
              "      <td>1.13</td>\n",
              "      <td>y</td>\n",
              "      <td>17.0</td>\n",
              "      <td>n</td>\n",
              "      <td>NaN</td>\n",
              "    </tr>\n",
              "    <tr>\n",
              "      <th>2</th>\n",
              "      <td>hypothyroid</td>\n",
              "      <td>24.0</td>\n",
              "      <td>M</td>\n",
              "      <td>f</td>\n",
              "      <td>f</td>\n",
              "      <td>f</td>\n",
              "      <td>f</td>\n",
              "      <td>f</td>\n",
              "      <td>f</td>\n",
              "      <td>f</td>\n",
              "      <td>f</td>\n",
              "      <td>f</td>\n",
              "      <td>f</td>\n",
              "      <td>f</td>\n",
              "      <td>y</td>\n",
              "      <td>0.0</td>\n",
              "      <td>y</td>\n",
              "      <td>0.2</td>\n",
              "      <td>y</td>\n",
              "      <td>4.0</td>\n",
              "      <td>y</td>\n",
              "      <td>1.00</td>\n",
              "      <td>y</td>\n",
              "      <td>0.0</td>\n",
              "      <td>n</td>\n",
              "      <td>NaN</td>\n",
              "    </tr>\n",
              "    <tr>\n",
              "      <th>3</th>\n",
              "      <td>hypothyroid</td>\n",
              "      <td>24.0</td>\n",
              "      <td>F</td>\n",
              "      <td>f</td>\n",
              "      <td>f</td>\n",
              "      <td>f</td>\n",
              "      <td>f</td>\n",
              "      <td>f</td>\n",
              "      <td>f</td>\n",
              "      <td>f</td>\n",
              "      <td>f</td>\n",
              "      <td>f</td>\n",
              "      <td>f</td>\n",
              "      <td>f</td>\n",
              "      <td>y</td>\n",
              "      <td>430.0</td>\n",
              "      <td>y</td>\n",
              "      <td>0.4</td>\n",
              "      <td>y</td>\n",
              "      <td>6.0</td>\n",
              "      <td>y</td>\n",
              "      <td>1.04</td>\n",
              "      <td>y</td>\n",
              "      <td>6.0</td>\n",
              "      <td>n</td>\n",
              "      <td>NaN</td>\n",
              "    </tr>\n",
              "    <tr>\n",
              "      <th>4</th>\n",
              "      <td>hypothyroid</td>\n",
              "      <td>77.0</td>\n",
              "      <td>M</td>\n",
              "      <td>f</td>\n",
              "      <td>f</td>\n",
              "      <td>f</td>\n",
              "      <td>f</td>\n",
              "      <td>f</td>\n",
              "      <td>f</td>\n",
              "      <td>f</td>\n",
              "      <td>f</td>\n",
              "      <td>f</td>\n",
              "      <td>f</td>\n",
              "      <td>f</td>\n",
              "      <td>y</td>\n",
              "      <td>7.3</td>\n",
              "      <td>y</td>\n",
              "      <td>1.2</td>\n",
              "      <td>y</td>\n",
              "      <td>57.0</td>\n",
              "      <td>y</td>\n",
              "      <td>1.28</td>\n",
              "      <td>y</td>\n",
              "      <td>44.0</td>\n",
              "      <td>n</td>\n",
              "      <td>NaN</td>\n",
              "    </tr>\n",
              "  </tbody>\n",
              "</table>\n",
              "</div>"
            ],
            "text/plain": [
              "        status   age sex on_thyroxine  ... FTI_measured   FTI TBG_measured TBG\n",
              "0  hypothyroid  72.0   M            f  ...            y  10.0            n NaN\n",
              "1  hypothyroid  15.0   F            t  ...            y  17.0            n NaN\n",
              "2  hypothyroid  24.0   M            f  ...            y   0.0            n NaN\n",
              "3  hypothyroid  24.0   F            f  ...            y   6.0            n NaN\n",
              "4  hypothyroid  77.0   M            f  ...            y  44.0            n NaN\n",
              "\n",
              "[5 rows x 26 columns]"
            ]
          },
          "metadata": {},
          "execution_count": 510
        }
      ]
    },
    {
      "cell_type": "code",
      "metadata": {
        "id": "PvCYb6dgW4yh",
        "colab": {
          "base_uri": "https://localhost:8080/"
        },
        "outputId": "15cefd04-d7eb-4fd5-ff43-ecec24905136"
      },
      "source": [
        "# Identifying the Missing Data\n",
        "#\n",
        "thyroid_health.isnull().sum()"
      ],
      "execution_count": 511,
      "outputs": [
        {
          "output_type": "execute_result",
          "data": {
            "text/plain": [
              "status                          0\n",
              "age                           446\n",
              "sex                             0\n",
              "on_thyroxine                    0\n",
              "query_on_thyroxine              0\n",
              "on_antithyroid_medication       0\n",
              "thyroid_surgery                 0\n",
              "query_hypothyroid               0\n",
              "query_hyperthyroid              0\n",
              "pregnant                        0\n",
              "sick                            0\n",
              "tumor                           0\n",
              "lithium                         0\n",
              "goitre                          0\n",
              "TSH_measured                    0\n",
              "TSH                           468\n",
              "T3_measured                     0\n",
              "T3                            695\n",
              "TT4_measured                    0\n",
              "TT4                           249\n",
              "T4U_measured                    0\n",
              "T4U                           248\n",
              "FTI_measured                    0\n",
              "FTI                           247\n",
              "TBG_measured                    0\n",
              "TBG                          2903\n",
              "dtype: int64"
            ]
          },
          "metadata": {},
          "execution_count": 511
        }
      ]
    },
    {
      "cell_type": "code",
      "metadata": {
        "id": "NweMyu6i3DE9"
      },
      "source": [
        "#thyroid_health=thyroid_health.drop(columns=['TBG'],axis=1)\n",
        "\n",
        "thyroid_health = thyroid_health.drop(['TBG_measured','TBG'],axis=1)"
      ],
      "execution_count": 512,
      "outputs": []
    },
    {
      "cell_type": "code",
      "metadata": {
        "colab": {
          "base_uri": "https://localhost:8080/"
        },
        "id": "n9836NierLnR",
        "outputId": "ba37897b-615c-4acd-b276-0f57f4b5cf0f"
      },
      "source": [
        "# Fetching the columns with numerical data\n",
        "#\n",
        "numerical_cols = [col for col in thyroid_health if thyroid_health[col].dtypes !='O']\n",
        "numerical_cols"
      ],
      "execution_count": 513,
      "outputs": [
        {
          "output_type": "execute_result",
          "data": {
            "text/plain": [
              "['age', 'TSH', 'T3', 'TT4', 'T4U', 'FTI']"
            ]
          },
          "metadata": {},
          "execution_count": 513
        }
      ]
    },
    {
      "cell_type": "code",
      "metadata": {
        "colab": {
          "base_uri": "https://localhost:8080/"
        },
        "id": "HRMHu6wCsFEh",
        "outputId": "8cd3c66f-2303-4b71-f4dc-d0d9e293b10a"
      },
      "source": [
        "# Fetching the columns with categorical data\n",
        "#\n",
        "categorical_cols = [col for col in thyroid_health if thyroid_health[col].dtypes == 'O']\n",
        "categorical_cols"
      ],
      "execution_count": 514,
      "outputs": [
        {
          "output_type": "execute_result",
          "data": {
            "text/plain": [
              "['status',\n",
              " 'sex',\n",
              " 'on_thyroxine',\n",
              " 'query_on_thyroxine',\n",
              " 'on_antithyroid_medication',\n",
              " 'thyroid_surgery',\n",
              " 'query_hypothyroid',\n",
              " 'query_hyperthyroid',\n",
              " 'pregnant',\n",
              " 'sick',\n",
              " 'tumor',\n",
              " 'lithium',\n",
              " 'goitre',\n",
              " 'TSH_measured',\n",
              " 'T3_measured',\n",
              " 'TT4_measured',\n",
              " 'T4U_measured',\n",
              " 'FTI_measured']"
            ]
          },
          "metadata": {},
          "execution_count": 514
        }
      ]
    },
    {
      "cell_type": "code",
      "metadata": {
        "id": "MpsDGKZHsf_W"
      },
      "source": [
        "# Replacing the  with the Missing Data with the mean of the columns\n",
        "#\n",
        "def fill_missing(df):\n",
        "  for cols in numerical_cols:\n",
        "    thyroid_health=df[cols].fillna(df[cols].mean(),inplace=True)\n",
        "  return thyroid_health"
      ],
      "execution_count": 515,
      "outputs": []
    },
    {
      "cell_type": "code",
      "metadata": {
        "id": "wj2Aq3qGzZ0P"
      },
      "source": [
        "fill_missing(thyroid_health)"
      ],
      "execution_count": 516,
      "outputs": []
    },
    {
      "cell_type": "code",
      "metadata": {
        "colab": {
          "base_uri": "https://localhost:8080/"
        },
        "id": "lNMAUsn80IGj",
        "outputId": "b6efe536-47df-42ce-ad90-26b69f048a01"
      },
      "source": [
        "thyroid_health.isnull().sum()"
      ],
      "execution_count": 517,
      "outputs": [
        {
          "output_type": "execute_result",
          "data": {
            "text/plain": [
              "status                       0\n",
              "age                          0\n",
              "sex                          0\n",
              "on_thyroxine                 0\n",
              "query_on_thyroxine           0\n",
              "on_antithyroid_medication    0\n",
              "thyroid_surgery              0\n",
              "query_hypothyroid            0\n",
              "query_hyperthyroid           0\n",
              "pregnant                     0\n",
              "sick                         0\n",
              "tumor                        0\n",
              "lithium                      0\n",
              "goitre                       0\n",
              "TSH_measured                 0\n",
              "TSH                          0\n",
              "T3_measured                  0\n",
              "T3                           0\n",
              "TT4_measured                 0\n",
              "TT4                          0\n",
              "T4U_measured                 0\n",
              "T4U                          0\n",
              "FTI_measured                 0\n",
              "FTI                          0\n",
              "dtype: int64"
            ]
          },
          "metadata": {},
          "execution_count": 517
        }
      ]
    },
    {
      "cell_type": "code",
      "metadata": {
        "id": "5o_bQcT5W3Wz",
        "colab": {
          "base_uri": "https://localhost:8080/",
          "height": 1000
        },
        "outputId": "1c6281d6-1b89-4f03-a4ea-263151e252ee"
      },
      "source": [
        "# Checking for Outliers\n",
        "#\n",
        "fig,ax=plt.subplots(len(numerical_cols),figsize=(15,35))\n",
        "# \n",
        "for i, col_vals in enumerate(numerical_cols):\n",
        "  sns.boxplot(thyroid_health[col_vals],ax=ax[i])\n",
        "  ax[i].set_title('A box plot of '+col_vals+ ' of the patients.',fontsize=10)\n",
        "  ax[i].set_xlabel(col_vals,fontsize=8)\n",
        "plt.show()"
      ],
      "execution_count": 518,
      "outputs": [
        {
          "output_type": "stream",
          "name": "stderr",
          "text": [
            "/usr/local/lib/python3.7/dist-packages/seaborn/_decorators.py:43: FutureWarning: Pass the following variable as a keyword arg: x. From version 0.12, the only valid positional argument will be `data`, and passing other arguments without an explicit keyword will result in an error or misinterpretation.\n",
            "  FutureWarning\n",
            "/usr/local/lib/python3.7/dist-packages/seaborn/_decorators.py:43: FutureWarning: Pass the following variable as a keyword arg: x. From version 0.12, the only valid positional argument will be `data`, and passing other arguments without an explicit keyword will result in an error or misinterpretation.\n",
            "  FutureWarning\n",
            "/usr/local/lib/python3.7/dist-packages/seaborn/_decorators.py:43: FutureWarning: Pass the following variable as a keyword arg: x. From version 0.12, the only valid positional argument will be `data`, and passing other arguments without an explicit keyword will result in an error or misinterpretation.\n",
            "  FutureWarning\n",
            "/usr/local/lib/python3.7/dist-packages/seaborn/_decorators.py:43: FutureWarning: Pass the following variable as a keyword arg: x. From version 0.12, the only valid positional argument will be `data`, and passing other arguments without an explicit keyword will result in an error or misinterpretation.\n",
            "  FutureWarning\n",
            "/usr/local/lib/python3.7/dist-packages/seaborn/_decorators.py:43: FutureWarning: Pass the following variable as a keyword arg: x. From version 0.12, the only valid positional argument will be `data`, and passing other arguments without an explicit keyword will result in an error or misinterpretation.\n",
            "  FutureWarning\n",
            "/usr/local/lib/python3.7/dist-packages/seaborn/_decorators.py:43: FutureWarning: Pass the following variable as a keyword arg: x. From version 0.12, the only valid positional argument will be `data`, and passing other arguments without an explicit keyword will result in an error or misinterpretation.\n",
            "  FutureWarning\n"
          ]
        },
        {
          "output_type": "display_data",
          "data": {
            "image/png": "[encoded data removed]",
            "text/plain": [
              "<Figure size 1080x2520 with 6 Axes>"
            ]
          },
          "metadata": {
            "needs_background": "light"
          }
        }
      ]
    },
    {
      "cell_type": "code",
      "metadata": {
        "id": "PWlukLKUvFQN"
      },
      "source": [
        "# Checking for Anomalies\n",
        "#\n",
        "# def counts(df):\n",
        "#   for cols in categorical_cols:\n",
        "#     val_counts = df[cols].value_counts()\n",
        "#     table = pd.DataFrame({'counts':val_counts})\n",
        "#   return table"
      ],
      "execution_count": 519,
      "outputs": []
    },
    {
      "cell_type": "code",
      "metadata": {
        "id": "D-4I__6Os4C5",
        "colab": {
          "base_uri": "https://localhost:8080/"
        },
        "outputId": "f315f89c-eda3-4efb-bd99-7300e5f23dea"
      },
      "source": [
        "# Checking for duplicates\n",
        "#\n",
        "thyroid_health.duplicated().sum()"
      ],
      "execution_count": 520,
      "outputs": [
        {
          "output_type": "execute_result",
          "data": {
            "text/plain": [
              "152"
            ]
          },
          "metadata": {},
          "execution_count": 520
        }
      ]
    },
    {
      "cell_type": "code",
      "metadata": {
        "id": "HtPN46631HX5"
      },
      "source": [
        "# Dropping the duplicates\n",
        "#\n",
        "thyroid_health.drop_duplicates(inplace=True)"
      ],
      "execution_count": 521,
      "outputs": []
    },
    {
      "cell_type": "code",
      "metadata": {
        "colab": {
          "base_uri": "https://localhost:8080/"
        },
        "id": "1Q1Q3TsN1XYE",
        "outputId": "70ada675-0e59-4e62-bedd-7fd9226e300e"
      },
      "source": [
        "thyroid_health.duplicated().sum()"
      ],
      "execution_count": 522,
      "outputs": [
        {
          "output_type": "execute_result",
          "data": {
            "text/plain": [
              "0"
            ]
          },
          "metadata": {},
          "execution_count": 522
        }
      ]
    },
    {
      "cell_type": "markdown",
      "metadata": {
        "id": "rF2ABPsHUtbZ"
      },
      "source": [
        "\n",
        "## 6. Exploratory Analysis"
      ]
    },
    {
      "cell_type": "markdown",
      "metadata": {
        "id": "tRdAeDKJ1lm_"
      },
      "source": [
        "### Univariate Analysis"
      ]
    },
    {
      "cell_type": "code",
      "metadata": {
        "colab": {
          "base_uri": "https://localhost:8080/"
        },
        "id": "hs9DgBAR8xQP",
        "outputId": "ad384af9-4fe0-429b-8f67-b0be6dfe4d96"
      },
      "source": [
        "thyroid_health.columns"
      ],
      "execution_count": 523,
      "outputs": [
        {
          "output_type": "execute_result",
          "data": {
            "text/plain": [
              "Index(['status', 'age', 'sex', 'on_thyroxine', 'query_on_thyroxine',\n",
              "       'on_antithyroid_medication', 'thyroid_surgery', 'query_hypothyroid',\n",
              "       'query_hyperthyroid', 'pregnant', 'sick', 'tumor', 'lithium', 'goitre',\n",
              "       'TSH_measured', 'TSH', 'T3_measured', 'T3', 'TT4_measured', 'TT4',\n",
              "       'T4U_measured', 'T4U', 'FTI_measured', 'FTI'],\n",
              "      dtype='object')"
            ]
          },
          "metadata": {},
          "execution_count": 523
        }
      ]
    },
    {
      "cell_type": "code",
      "metadata": {
        "colab": {
          "base_uri": "https://localhost:8080/",
          "height": 366
        },
        "id": "SgHjvjaJ1yvR",
        "outputId": "40c0f1e1-e30c-4228-de66-710bdcd913ae"
      },
      "source": [
        "# Checking the distribution of age\n",
        "#\n",
        "ax = sns.distplot(df1['age'].dropna()) \n",
        "ax.set_title('The distribution of age')"
      ],
      "execution_count": 524,
      "outputs": [
        {
          "output_type": "stream",
          "name": "stderr",
          "text": [
            "/usr/local/lib/python3.7/dist-packages/seaborn/distributions.py:2619: FutureWarning: `distplot` is a deprecated function and will be removed in a future version. Please adapt your code to use either `displot` (a figure-level function with similar flexibility) or `histplot` (an axes-level function for histograms).\n",
            "  warnings.warn(msg, FutureWarning)\n"
          ]
        },
        {
          "output_type": "execute_result",
          "data": {
            "text/plain": [
              "Text(0.5, 1.0, 'The distribution of age')"
            ]
          },
          "metadata": {},
          "execution_count": 524
        },
        {
          "output_type": "display_data",
          "data": {
            "image/png": "[encoded data removed]",
            "text/plain": [
              "<Figure size 432x288 with 1 Axes>"
            ]
          },
          "metadata": {
            "needs_background": "light"
          }
        }
      ]
    },
    {
      "cell_type": "code",
      "metadata": {
        "colab": {
          "base_uri": "https://localhost:8080/",
          "height": 366
        },
        "id": "heJkYGOK-657",
        "outputId": "38f02955-186c-4cd6-a655-4d83bd2c8076"
      },
      "source": [
        "# Visualising the genders\n",
        "#\n",
        "sns.countplot(df1['sex'],order=df1['sex'].value_counts().index)\n",
        "plt.title('Sex of the patients tested')"
      ],
      "execution_count": 525,
      "outputs": [
        {
          "output_type": "stream",
          "name": "stderr",
          "text": [
            "/usr/local/lib/python3.7/dist-packages/seaborn/_decorators.py:43: FutureWarning: Pass the following variable as a keyword arg: x. From version 0.12, the only valid positional argument will be `data`, and passing other arguments without an explicit keyword will result in an error or misinterpretation.\n",
            "  FutureWarning\n"
          ]
        },
        {
          "output_type": "execute_result",
          "data": {
            "text/plain": [
              "Text(0.5, 1.0, 'Sex of the patients tested')"
            ]
          },
          "metadata": {},
          "execution_count": 525
        },
        {
          "output_type": "display_data",
          "data": {
            "image/png": "[encoded data removed]",
            "text/plain": [
              "<Figure size 432x288 with 1 Axes>"
            ]
          },
          "metadata": {
            "needs_background": "light"
          }
        }
      ]
    },
    {
      "cell_type": "code",
      "metadata": {
        "colab": {
          "base_uri": "https://localhost:8080/",
          "height": 366
        },
        "id": "cYJE7SiFAkJ2",
        "outputId": "497fe1ed-9f8f-4f26-8f25-f9f84f4bed03"
      },
      "source": [
        "# Visualizing the status of the patients\n",
        "#\n",
        "sns.countplot(df1['status'],order=df1['status'].value_counts().index)\n",
        "plt.title('Status of the patients tested')"
      ],
      "execution_count": 526,
      "outputs": [
        {
          "output_type": "stream",
          "name": "stderr",
          "text": [
            "/usr/local/lib/python3.7/dist-packages/seaborn/_decorators.py:43: FutureWarning: Pass the following variable as a keyword arg: x. From version 0.12, the only valid positional argument will be `data`, and passing other arguments without an explicit keyword will result in an error or misinterpretation.\n",
            "  FutureWarning\n"
          ]
        },
        {
          "output_type": "execute_result",
          "data": {
            "text/plain": [
              "Text(0.5, 1.0, 'Status of the patients tested')"
            ]
          },
          "metadata": {},
          "execution_count": 526
        },
        {
          "output_type": "display_data",
          "data": {
            "image/png": "[encoded data removed]",
            "text/plain": [
              "<Figure size 432x288 with 1 Axes>"
            ]
          },
          "metadata": {
            "needs_background": "light"
          }
        }
      ]
    },
    {
      "cell_type": "markdown",
      "metadata": {
        "id": "wWXo6M2IA37k"
      },
      "source": [
        "From the univariate analysis I can deduce that:\n",
        "\n",
        "*   Most of the tested patients were women.\n",
        "*   Most of the people tested negative on thyroids.\n",
        "*   Most of the patients tested ranged from 50 - 80 years.\n",
        "\n"
      ]
    },
    {
      "cell_type": "markdown",
      "metadata": {
        "id": "EPJ9UoJe_VtD"
      },
      "source": [
        "### Bivariate Analysis"
      ]
    },
    {
      "cell_type": "code",
      "metadata": {
        "id": "H6PjDPcM_ajC"
      },
      "source": [
        ""
      ],
      "execution_count": 526,
      "outputs": []
    },
    {
      "cell_type": "code",
      "metadata": {
        "id": "Ray0KOAc_aT2"
      },
      "source": [
        ""
      ],
      "execution_count": 526,
      "outputs": []
    },
    {
      "cell_type": "markdown",
      "metadata": {
        "id": "26Xg2Co1_Zi3"
      },
      "source": [
        "### Multivariate Analysis"
      ]
    },
    {
      "cell_type": "code",
      "metadata": {
        "id": "nYoVlxLI_jXd"
      },
      "source": [
        ""
      ],
      "execution_count": 526,
      "outputs": []
    },
    {
      "cell_type": "markdown",
      "metadata": {
        "id": "nEv9_4KnExxM"
      },
      "source": [
        "## Feature Engineering"
      ]
    },
    {
      "cell_type": "code",
      "metadata": {
        "colab": {
          "base_uri": "https://localhost:8080/"
        },
        "id": "Vo__TwqnFg6P",
        "outputId": "a1f1a251-f66b-4b38-e3e0-a84cd6e1510f"
      },
      "source": [
        "len(categorical_cols)"
      ],
      "execution_count": 527,
      "outputs": [
        {
          "output_type": "execute_result",
          "data": {
            "text/plain": [
              "18"
            ]
          },
          "metadata": {},
          "execution_count": 527
        }
      ]
    },
    {
      "cell_type": "code",
      "metadata": {
        "id": "e73TkUKbE3UX"
      },
      "source": [
        "from sklearn.preprocessing import LabelEncoder\n",
        "le = LabelEncoder()\n",
        "# Converting the variables to numerical\n",
        "#\n",
        "for i in range(18):\n",
        "    new = le.fit_transform(thyroid_health[categorical_cols[i]])\n",
        "    thyroid_health[categorical_cols[i]] = new"
      ],
      "execution_count": 528,
      "outputs": []
    },
    {
      "cell_type": "code",
      "metadata": {
        "colab": {
          "base_uri": "https://localhost:8080/",
          "height": 223
        },
        "id": "KANtyzgkFU-M",
        "outputId": "462a8c59-f936-4783-eb1c-64aa94a3de1c"
      },
      "source": [
        "thyroid_health.head()"
      ],
      "execution_count": 529,
      "outputs": [
        {
          "output_type": "execute_result",
          "data": {
            "text/html": [
              "<div>\n",
              "<style scoped>\n",
              "    .dataframe tbody tr th:only-of-type {\n",
              "        vertical-align: middle;\n",
              "    }\n",
              "\n",
              "    .dataframe tbody tr th {\n",
              "        vertical-align: top;\n",
              "    }\n",
              "\n",
              "    .dataframe thead th {\n",
              "        text-align: right;\n",
              "    }\n",
              "</style>\n",
              "<table border=\"1\" class=\"dataframe\">\n",
              "  <thead>\n",
              "    <tr style=\"text-align: right;\">\n",
              "      <th></th>\n",
              "      <th>status</th>\n",
              "      <th>age</th>\n",
              "      <th>sex</th>\n",
              "      <th>on_thyroxine</th>\n",
              "      <th>query_on_thyroxine</th>\n",
              "      <th>on_antithyroid_medication</th>\n",
              "      <th>thyroid_surgery</th>\n",
              "      <th>query_hypothyroid</th>\n",
              "      <th>query_hyperthyroid</th>\n",
              "      <th>pregnant</th>\n",
              "      <th>sick</th>\n",
              "      <th>tumor</th>\n",
              "      <th>lithium</th>\n",
              "      <th>goitre</th>\n",
              "      <th>TSH_measured</th>\n",
              "      <th>TSH</th>\n",
              "      <th>T3_measured</th>\n",
              "      <th>T3</th>\n",
              "      <th>TT4_measured</th>\n",
              "      <th>TT4</th>\n",
              "      <th>T4U_measured</th>\n",
              "      <th>T4U</th>\n",
              "      <th>FTI_measured</th>\n",
              "      <th>FTI</th>\n",
              "    </tr>\n",
              "  </thead>\n",
              "  <tbody>\n",
              "    <tr>\n",
              "      <th>0</th>\n",
              "      <td>0</td>\n",
              "      <td>72.0</td>\n",
              "      <td>2</td>\n",
              "      <td>0</td>\n",
              "      <td>0</td>\n",
              "      <td>0</td>\n",
              "      <td>0</td>\n",
              "      <td>0</td>\n",
              "      <td>0</td>\n",
              "      <td>0</td>\n",
              "      <td>0</td>\n",
              "      <td>0</td>\n",
              "      <td>0</td>\n",
              "      <td>0</td>\n",
              "      <td>1</td>\n",
              "      <td>30.0</td>\n",
              "      <td>1</td>\n",
              "      <td>0.6</td>\n",
              "      <td>1</td>\n",
              "      <td>15.0</td>\n",
              "      <td>1</td>\n",
              "      <td>1.48</td>\n",
              "      <td>1</td>\n",
              "      <td>10.0</td>\n",
              "    </tr>\n",
              "    <tr>\n",
              "      <th>1</th>\n",
              "      <td>0</td>\n",
              "      <td>15.0</td>\n",
              "      <td>1</td>\n",
              "      <td>1</td>\n",
              "      <td>0</td>\n",
              "      <td>0</td>\n",
              "      <td>0</td>\n",
              "      <td>0</td>\n",
              "      <td>0</td>\n",
              "      <td>0</td>\n",
              "      <td>0</td>\n",
              "      <td>0</td>\n",
              "      <td>0</td>\n",
              "      <td>0</td>\n",
              "      <td>1</td>\n",
              "      <td>145.0</td>\n",
              "      <td>1</td>\n",
              "      <td>1.7</td>\n",
              "      <td>1</td>\n",
              "      <td>19.0</td>\n",
              "      <td>1</td>\n",
              "      <td>1.13</td>\n",
              "      <td>1</td>\n",
              "      <td>17.0</td>\n",
              "    </tr>\n",
              "    <tr>\n",
              "      <th>2</th>\n",
              "      <td>0</td>\n",
              "      <td>24.0</td>\n",
              "      <td>2</td>\n",
              "      <td>0</td>\n",
              "      <td>0</td>\n",
              "      <td>0</td>\n",
              "      <td>0</td>\n",
              "      <td>0</td>\n",
              "      <td>0</td>\n",
              "      <td>0</td>\n",
              "      <td>0</td>\n",
              "      <td>0</td>\n",
              "      <td>0</td>\n",
              "      <td>0</td>\n",
              "      <td>1</td>\n",
              "      <td>0.0</td>\n",
              "      <td>1</td>\n",
              "      <td>0.2</td>\n",
              "      <td>1</td>\n",
              "      <td>4.0</td>\n",
              "      <td>1</td>\n",
              "      <td>1.00</td>\n",
              "      <td>1</td>\n",
              "      <td>0.0</td>\n",
              "    </tr>\n",
              "    <tr>\n",
              "      <th>3</th>\n",
              "      <td>0</td>\n",
              "      <td>24.0</td>\n",
              "      <td>1</td>\n",
              "      <td>0</td>\n",
              "      <td>0</td>\n",
              "      <td>0</td>\n",
              "      <td>0</td>\n",
              "      <td>0</td>\n",
              "      <td>0</td>\n",
              "      <td>0</td>\n",
              "      <td>0</td>\n",
              "      <td>0</td>\n",
              "      <td>0</td>\n",
              "      <td>0</td>\n",
              "      <td>1</td>\n",
              "      <td>430.0</td>\n",
              "      <td>1</td>\n",
              "      <td>0.4</td>\n",
              "      <td>1</td>\n",
              "      <td>6.0</td>\n",
              "      <td>1</td>\n",
              "      <td>1.04</td>\n",
              "      <td>1</td>\n",
              "      <td>6.0</td>\n",
              "    </tr>\n",
              "    <tr>\n",
              "      <th>4</th>\n",
              "      <td>0</td>\n",
              "      <td>77.0</td>\n",
              "      <td>2</td>\n",
              "      <td>0</td>\n",
              "      <td>0</td>\n",
              "      <td>0</td>\n",
              "      <td>0</td>\n",
              "      <td>0</td>\n",
              "      <td>0</td>\n",
              "      <td>0</td>\n",
              "      <td>0</td>\n",
              "      <td>0</td>\n",
              "      <td>0</td>\n",
              "      <td>0</td>\n",
              "      <td>1</td>\n",
              "      <td>7.3</td>\n",
              "      <td>1</td>\n",
              "      <td>1.2</td>\n",
              "      <td>1</td>\n",
              "      <td>57.0</td>\n",
              "      <td>1</td>\n",
              "      <td>1.28</td>\n",
              "      <td>1</td>\n",
              "      <td>44.0</td>\n",
              "    </tr>\n",
              "  </tbody>\n",
              "</table>\n",
              "</div>"
            ],
            "text/plain": [
              "   status   age  sex  on_thyroxine  ...  T4U_measured   T4U  FTI_measured   FTI\n",
              "0       0  72.0    2             0  ...             1  1.48             1  10.0\n",
              "1       0  15.0    1             1  ...             1  1.13             1  17.0\n",
              "2       0  24.0    2             0  ...             1  1.00             1   0.0\n",
              "3       0  24.0    1             0  ...             1  1.04             1   6.0\n",
              "4       0  77.0    2             0  ...             1  1.28             1  44.0\n",
              "\n",
              "[5 rows x 24 columns]"
            ]
          },
          "metadata": {},
          "execution_count": 529
        }
      ]
    },
    {
      "cell_type": "markdown",
      "metadata": {
        "id": "vTbdjSrhVIiT"
      },
      "source": [
        "## 7. Implementing the Solution"
      ]
    },
    {
      "cell_type": "code",
      "metadata": {
        "colab": {
          "base_uri": "https://localhost:8080/"
        },
        "id": "SRaBmdcVJPkj",
        "outputId": "04542e1d-7f82-4da2-887a-41afa8d0b6c3"
      },
      "source": [
        "from statsmodels.stats.outliers_influence import variance_inflation_factor\n",
        "\n",
        "X = thyroid_health.drop(['status'],axis=1)\n",
        "vif = pd.DataFrame()\n",
        "vif[\"features\"] = X.columns\n",
        "vif[\"vif_Factor\"] = [variance_inflation_factor(X.values, i) for i in range(X.shape[1])]\n",
        "print(vif)"
      ],
      "execution_count": 530,
      "outputs": [
        {
          "output_type": "stream",
          "name": "stdout",
          "text": [
            "                     features   vif_Factor\n",
            "0                         age     9.444382\n",
            "1                         sex     6.820315\n",
            "2                on_thyroxine     1.382463\n",
            "3          query_on_thyroxine     1.071679\n",
            "4   on_antithyroid_medication     1.042222\n",
            "5             thyroid_surgery     1.045848\n",
            "6           query_hypothyroid     1.114621\n",
            "7          query_hyperthyroid     1.178122\n",
            "8                    pregnant     1.160058\n",
            "9                        sick     1.061242\n",
            "10                      tumor     1.055477\n",
            "11                    lithium     1.005559\n",
            "12                     goitre     1.068062\n",
            "13               TSH_measured    17.503746\n",
            "14                        TSH     1.273459\n",
            "15                T3_measured     8.765142\n",
            "16                         T3     9.932948\n",
            "17               TT4_measured  2865.543197\n",
            "18                        TT4    30.398348\n",
            "19               T4U_measured  5795.412020\n",
            "20                        T4U    31.149342\n",
            "21               FTI_measured  2951.364844\n",
            "22                        FTI    14.400779\n"
          ]
        }
      ]
    },
    {
      "cell_type": "code",
      "metadata": {
        "colab": {
          "base_uri": "https://localhost:8080/"
        },
        "id": "BHMyALM8I9ms",
        "outputId": "9516c073-e7b2-4e4d-a6f4-8e9b8121d955"
      },
      "source": [
        "# Multi collinearity Test\n",
        "#\n",
        "from statsmodels.stats.outliers_influence import variance_inflation_factor\n",
        "\n",
        "X = thyroid_health.drop(['status','FTI_measured','T4U_measured','TT4_measured','T4U','TT4','FTI','TSH_measured'],axis=1)\n",
        "vif = pd.DataFrame()\n",
        "vif[\"features\"] = X.columns\n",
        "vif[\"vif_Factor\"] = [variance_inflation_factor(X.values, i) for i in range(X.shape[1])]\n",
        "print(vif)"
      ],
      "execution_count": 531,
      "outputs": [
        {
          "output_type": "stream",
          "name": "stdout",
          "text": [
            "                     features  vif_Factor\n",
            "0                         age    6.578844\n",
            "1                         sex    5.774195\n",
            "2                on_thyroxine    1.220888\n",
            "3          query_on_thyroxine    1.036821\n",
            "4   on_antithyroid_medication    1.036959\n",
            "5             thyroid_surgery    1.037677\n",
            "6           query_hypothyroid    1.101917\n",
            "7          query_hyperthyroid    1.150702\n",
            "8                    pregnant    1.091476\n",
            "9                        sick    1.058266\n",
            "10                      tumor    1.021636\n",
            "11                    lithium    1.003745\n",
            "12                     goitre    1.056440\n",
            "13                        TSH    1.078261\n",
            "14                T3_measured    5.139907\n",
            "15                         T3    4.720088\n"
          ]
        }
      ]
    },
    {
      "cell_type": "code",
      "metadata": {
        "colab": {
          "base_uri": "https://localhost:8080/"
        },
        "id": "g0euwbjDdSdp",
        "outputId": "d5376217-f830-4ca4-e0e5-46ba6a138f24"
      },
      "source": [
        "X.columns"
      ],
      "execution_count": 532,
      "outputs": [
        {
          "output_type": "execute_result",
          "data": {
            "text/plain": [
              "Index(['age', 'sex', 'on_thyroxine', 'query_on_thyroxine',\n",
              "       'on_antithyroid_medication', 'thyroid_surgery', 'query_hypothyroid',\n",
              "       'query_hyperthyroid', 'pregnant', 'sick', 'tumor', 'lithium', 'goitre',\n",
              "       'TSH', 'T3_measured', 'T3'],\n",
              "      dtype='object')"
            ]
          },
          "metadata": {},
          "execution_count": 532
        }
      ]
    },
    {
      "cell_type": "markdown",
      "metadata": {
        "id": "mBRpU6weFykm"
      },
      "source": [
        "### Decision Trees"
      ]
    },
    {
      "cell_type": "code",
      "metadata": {
        "id": "ZK_80zhoZ2FH"
      },
      "source": [
        "# Split the independent and dependent variables\n",
        "#\n",
        "test_features = ['age', 'sex', 'on_thyroxine', 'query_on_thyroxine',\n",
        "       'on_antithyroid_medication', 'thyroid_surgery', 'query_hypothyroid',\n",
        "       'query_hyperthyroid', 'pregnant', 'sick', 'tumor', 'lithium', 'goitre',\n",
        "       'TSH', 'T3_measured', 'T3']\n",
        "y = thyroid_health['status'].values\n",
        "X_features = thyroid_health.drop(['status','FTI_measured','T4U_measured','TT4_measured','T4U','TT4','FTI','TSH_measured'],axis=1)\n",
        "X = X_features.values"
      ],
      "execution_count": 533,
      "outputs": []
    },
    {
      "cell_type": "code",
      "metadata": {
        "id": "PJLZaRzJXJ3w"
      },
      "source": [
        "# Splitting into train and test samples\n",
        "#\n",
        "\n",
        "from sklearn.model_selection import train_test_split\n",
        "\n",
        "X_train, X_test, y_train, y_test = train_test_split(X, y, test_size=0.3, random_state=0)\n",
        "\n",
        "\n",
        "# Import the model\n",
        "from sklearn.ensemble import RandomForestClassifier\n",
        "\n",
        "\n",
        "\n",
        "forest = RandomForestClassifier(n_estimators = 100, random_state = 0, max_depth=3)\n",
        "forest = forest.fit(X_train, y_train)\n",
        "\n",
        "# Predict based on the model we've trained\n",
        "y_pred_rf = forest.predict(X_test)\n",
        "\n"
      ],
      "execution_count": 534,
      "outputs": []
    },
    {
      "cell_type": "code",
      "metadata": {
        "colab": {
          "base_uri": "https://localhost:8080/"
        },
        "id": "jsVFanmxX5Tl",
        "outputId": "ae4eb744-bfac-485a-eeee-92fec1a671a6"
      },
      "source": [
        "# Measuring the accuracy of the model\n",
        "#\n",
        "from sklearn import metrics\n",
        "print(metrics.accuracy_score(y_test, y_pred_rf))"
      ],
      "execution_count": 535,
      "outputs": [
        {
          "output_type": "stream",
          "name": "stdout",
          "text": [
            "0.9723451327433629\n"
          ]
        }
      ]
    },
    {
      "cell_type": "code",
      "metadata": {
        "colab": {
          "base_uri": "https://localhost:8080/",
          "height": 435
        },
        "id": "5foWjsNrby6P",
        "outputId": "dbcad9c9-9599-4ace-c31a-dc7c9f22442a"
      },
      "source": [
        "import matplotlib.pyplot as plt\n",
        "\n",
        "importances = list(forest.feature_importances_)\n",
        "# list of x locations for plotting\n",
        "x_values = list(range(len(importances)))\n",
        "\n",
        "\n",
        "plt.bar(x_values, importances, orientation = 'vertical')\n",
        "plt.xticks(x_values, test_features, rotation='vertical')\n",
        "plt.ylabel('Importance')\n",
        "plt.xlabel('Variable')\n",
        "plt.title('Variable Importances')"
      ],
      "execution_count": 537,
      "outputs": [
        {
          "output_type": "execute_result",
          "data": {
            "text/plain": [
              "Text(0.5, 1.0, 'Variable Importances')"
            ]
          },
          "metadata": {},
          "execution_count": 537
        },
        {
          "output_type": "display_data",
          "data": {
            "image/png": "[encoded data removed]",
            "text/plain": [
              "<Figure size 432x288 with 1 Axes>"
            ]
          },
          "metadata": {
            "needs_background": "light"
          }
        }
      ]
    },
    {
      "cell_type": "code",
      "metadata": {
        "id": "oI_g1DFBfGU3"
      },
      "source": [
        "# Using ada boost\n",
        "#\n",
        "from sklearn.ensemble import AdaBoostClassifier\n",
        "\n",
        "ada_boost = AdaBoostClassifier(forest,n_estimators=100, random_state= 0)\n",
        "\n",
        "ada_boost = ada_boost.fit(X_train, y_train)\n",
        "y_pred_ada = ada_boost.predict(X)"
      ],
      "execution_count": 542,
      "outputs": []
    },
    {
      "cell_type": "code",
      "metadata": {
        "id": "MdJj16d_hNHR"
      },
      "source": [
        "print(metrics.accuracy_score(y_test, y_pred_ada))"
      ],
      "execution_count": null,
      "outputs": []
    },
    {
      "cell_type": "code",
      "metadata": {
        "id": "u3V9QT3We0B6"
      },
      "source": [
        "# Using gradient boost\n",
        "#\n",
        "from sklearn.ensemble import GradientBoostingClassifier\n",
        "\n",
        "gdr=GradientBoostingClassifier(n_estimators=100,learning_rate=0.1,max_depth=10)\n",
        "# Fitting our training set\n",
        "gdr.fit(X_train,y_train)\n",
        "# predicting the diagnosis\n",
        "y_pred_grad=gdr.predict(X_test)"
      ],
      "execution_count": 540,
      "outputs": []
    },
    {
      "cell_type": "code",
      "metadata": {
        "colab": {
          "base_uri": "https://localhost:8080/"
        },
        "id": "5_IJDxOxkQrs",
        "outputId": "d870a21e-4150-4b2f-9940-9a9a718ace6e"
      },
      "source": [
        "print(metrics.accuracy_score(y_test, y_pred_grad))"
      ],
      "execution_count": 541,
      "outputs": [
        {
          "output_type": "stream",
          "name": "stdout",
          "text": [
            "0.9679203539823009\n"
          ]
        }
      ]
    },
    {
      "cell_type": "markdown",
      "metadata": {
        "id": "CP4-kmrwoUhX"
      },
      "source": [
        "###SVM"
      ]
    },
    {
      "cell_type": "code",
      "metadata": {
        "id": "6nQn1ikmnqun"
      },
      "source": [
        "from sklearn.svm import SVC\n",
        "\n",
        "svm_lin = SVC(kernel = 'linear')\n",
        "# Train the model \n",
        "svm_lin.fit(X_train,y_train)\n",
        "\n",
        "# Predict the response for the test\n",
        "y_pred_svm_lin = svm_lin.predict(X_test)\n"
      ],
      "execution_count": 544,
      "outputs": []
    },
    {
      "cell_type": "code",
      "metadata": {
        "colab": {
          "base_uri": "https://localhost:8080/"
        },
        "id": "YLPvvpP4pgaC",
        "outputId": "1e2d6b4f-5014-416d-d53a-d45a61572451"
      },
      "source": [
        "print(metrics.accuracy_score(y_test, y_pred_svm_lin))"
      ],
      "execution_count": 545,
      "outputs": [
        {
          "output_type": "stream",
          "name": "stdout",
          "text": [
            "0.9789823008849557\n"
          ]
        }
      ]
    },
    {
      "cell_type": "code",
      "metadata": {
        "id": "nbBhYpccplQK"
      },
      "source": [
        "svm_poly = SVC(kernel='poly',degree=3)\n",
        "# Train the model \n",
        "svm_poly.fit(X_train,y_train)\n",
        "\n",
        "# Predict the response for the test\n",
        "y_pred_svm_poly = svm_poly.predict(X_test)"
      ],
      "execution_count": 547,
      "outputs": []
    },
    {
      "cell_type": "code",
      "metadata": {
        "colab": {
          "base_uri": "https://localhost:8080/"
        },
        "id": "VF53RGLUqFhW",
        "outputId": "4c8ced7c-ac49-4aa7-f4de-de459302514f"
      },
      "source": [
        "print(metrics.accuracy_score(y_test, y_pred_svm_poly))"
      ],
      "execution_count": 548,
      "outputs": [
        {
          "output_type": "stream",
          "name": "stdout",
          "text": [
            "0.9712389380530974\n"
          ]
        }
      ]
    },
    {
      "cell_type": "code",
      "metadata": {
        "id": "OsPOgIBwqSzB"
      },
      "source": [
        "svm_rbf = SVC(kernel='rbf')\n",
        "# Train the model \n",
        "svm_rbf.fit(X_train,y_train)\n",
        "\n",
        "# Predict the response for the test\n",
        "y_pred_svm_rbf = svm_rbf.predict(X_test)"
      ],
      "execution_count": 552,
      "outputs": []
    },
    {
      "cell_type": "code",
      "metadata": {
        "colab": {
          "base_uri": "https://localhost:8080/"
        },
        "id": "1nXf1E8LqXuS",
        "outputId": "6ce230f3-b591-4c75-8c55-c37a8548844a"
      },
      "source": [
        "print(metrics.accuracy_score(y_test, y_pred_svm_rbf))"
      ],
      "execution_count": 553,
      "outputs": [
        {
          "output_type": "stream",
          "name": "stdout",
          "text": [
            "0.9723451327433629\n"
          ]
        }
      ]
    },
    {
      "cell_type": "markdown",
      "metadata": {
        "id": "lQ2G4ZPDVOXE"
      },
      "source": [
        "## 8. Challenging the solution"
      ]
    },
    {
      "cell_type": "markdown",
      "metadata": {
        "id": "jWVGKGuiYMWg"
      },
      "source": [
        "> The easy solution is nice because it is, well, easy, but you should never allow those results to hold the day. You should always be thinking of ways to challenge the results, especially if those results comport with your prior expectation.\n",
        "\n",
        "\n",
        "\n",
        "\n"
      ]
    },
    {
      "cell_type": "code",
      "metadata": {
        "id": "j3x3SXZ4XT_L"
      },
      "source": [
        "# Reviewing the Solution \n",
        "#"
      ],
      "execution_count": null,
      "outputs": []
    },
    {
      "cell_type": "markdown",
      "metadata": {
        "id": "xrmHVMVsVS--"
      },
      "source": [
        "## 9. Follow up questions"
      ]
    },
    {
      "cell_type": "markdown",
      "metadata": {
        "id": "pth2qSWhuBIy"
      },
      "source": [
        "> At this point, we can refine our question or collect new data, all in an iterative process to get at the truth.\n",
        "\n"
      ]
    },
    {
      "cell_type": "markdown",
      "metadata": {
        "id": "HPQviDmNtta8"
      },
      "source": [
        "### a). Did we have the right data?"
      ]
    },
    {
      "cell_type": "markdown",
      "metadata": {
        "id": "qjFHK1CKty7o"
      },
      "source": [
        "### b). Do we need other data to answer our question?"
      ]
    },
    {
      "cell_type": "markdown",
      "metadata": {
        "id": "HSsicSdvt4Zs"
      },
      "source": [
        "### c). Did we have the right question?"
      ]
    }
  ]
}