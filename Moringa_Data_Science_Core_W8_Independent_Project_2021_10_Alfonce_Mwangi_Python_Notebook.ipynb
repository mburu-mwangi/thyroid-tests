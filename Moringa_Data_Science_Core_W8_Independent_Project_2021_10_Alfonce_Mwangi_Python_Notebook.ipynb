{
  "nbformat": 4,
  "nbformat_minor": 0,
  "metadata": {
    "colab": {
      "name": "Moringa_Data_Science_Core_W8_Independent_Project_2021_10_Alfonce_Mwangi_Python_Notebook.ipynb",
      "provenance": [],
      "authorship_tag": "ABX9TyO8yob97XK6qAcmkfGJ8A8y",
      "include_colab_link": true
    },
    "kernelspec": {
      "name": "python3",
      "display_name": "Python 3"
    },
    "language_info": {
      "name": "python"
    }
  },
  "cells": [
    {
      "cell_type": "markdown",
      "metadata": {
        "id": "view-in-github",
        "colab_type": "text"
      },
      "source": [
        "<a href=\"https://colab.research.google.com/github/mburu-mwangi/thyroid-tests/blob/main/Moringa_Data_Science_Core_W8_Independent_Project_2021_10_Alfonce_Mwangi_Python_Notebook.ipynb\" target=\"_parent\"><img src=\"https://colab.research.google.com/assets/colab-badge.svg\" alt=\"Open In Colab\"/></a>"
      ]
    },
    {
      "cell_type": "markdown",
      "metadata": {
        "id": "kLG2VTrnTvYL"
      },
      "source": [
        "## 1. Defining the Question"
      ]
    },
    {
      "cell_type": "markdown",
      "metadata": {
        "id": "XecOwPNorl2W"
      },
      "source": [
        "### a) Specifying the Data Analytic Question"
      ]
    },
    {
      "cell_type": "markdown",
      "metadata": {
        "id": "9ozBnKfehSAw"
      },
      "source": [
        "> During production, The Wine Company, would like to determine the quality of its red wine based on several characteristics. Build a model to predict the quality of wine correctly. You can reduce the data using either PCA or LDA algorithms."
      ]
    },
    {
      "cell_type": "markdown",
      "metadata": {
        "id": "J4wfHZwQrs-t"
      },
      "source": [
        "### b) Defining the Metric for Success"
      ]
    },
    {
      "cell_type": "markdown",
      "metadata": {
        "id": "a9BPYqunry97"
      },
      "source": [
        "### c) Understanding the context "
      ]
    },
    {
      "cell_type": "markdown",
      "metadata": {
        "id": "7KMRBJ7zr9HD"
      },
      "source": [
        "### d) Recording the Experimental Design"
      ]
    },
    {
      "cell_type": "markdown",
      "metadata": {
        "id": "zSGyg6kWsBUl"
      },
      "source": [
        "### e) Data Relevance"
      ]
    },
    {
      "cell_type": "markdown",
      "metadata": {
        "id": "iUNbvIvnT7ep"
      },
      "source": [
        "## 2. Reading the Data"
      ]
    },
    {
      "cell_type": "markdown",
      "metadata": {
        "id": "l0i5OvPgXoFK"
      },
      "source": [
        "### Importing the various libraries needed"
      ]
    },
    {
      "cell_type": "code",
      "metadata": {
        "id": "spwlOoMeXwbM"
      },
      "source": [
        "# analysis tools\n",
        "import pandas as pd\n",
        "import numpy as np\n",
        "import scipy.stats as stats\n",
        "\n",
        "# visualization tools\n",
        "import matplotlib.pyplot as plt\n",
        "import seaborn as sns\n",
        "\n",
        "%matplotlib inline"
      ],
      "execution_count": null,
      "outputs": []
    },
    {
      "cell_type": "markdown",
      "metadata": {
        "id": "GZ355lUx3I_v"
      },
      "source": [
        "### Function Toolbox"
      ]
    },
    {
      "cell_type": "code",
      "metadata": {
        "id": "2WJMph7eZXiM"
      },
      "source": [
        "# sns.set(rc = {'figure.figsize':(15,15)})"
      ],
      "execution_count": null,
      "outputs": []
    },
    {
      "cell_type": "markdown",
      "metadata": {
        "id": "C3-EL2RBYI_L"
      },
      "source": [
        "### Loading the datasets\n"
      ]
    },
    {
      "cell_type": "code",
      "metadata": {
        "id": "XJn2KjW-WMlG",
        "colab": {
          "base_uri": "https://localhost:8080/",
          "height": 223
        },
        "outputId": "77088d12-2886-40eb-c99a-1dc9784f7f7c"
      },
      "source": [
        "# Loading the Data from the source \n",
        "# \n",
        "thyroid_health = pd.read_csv('/content/hypothyroid.csv')\n",
        "\n",
        "thyroid_health.head()"
      ],
      "execution_count": null,
      "outputs": [
        {
          "output_type": "execute_result",
          "data": {
            "text/html": [
              "<div>\n",
              "<style scoped>\n",
              "    .dataframe tbody tr th:only-of-type {\n",
              "        vertical-align: middle;\n",
              "    }\n",
              "\n",
              "    .dataframe tbody tr th {\n",
              "        vertical-align: top;\n",
              "    }\n",
              "\n",
              "    .dataframe thead th {\n",
              "        text-align: right;\n",
              "    }\n",
              "</style>\n",
              "<table border=\"1\" class=\"dataframe\">\n",
              "  <thead>\n",
              "    <tr style=\"text-align: right;\">\n",
              "      <th></th>\n",
              "      <th>status</th>\n",
              "      <th>age</th>\n",
              "      <th>sex</th>\n",
              "      <th>on_thyroxine</th>\n",
              "      <th>query_on_thyroxine</th>\n",
              "      <th>on_antithyroid_medication</th>\n",
              "      <th>thyroid_surgery</th>\n",
              "      <th>query_hypothyroid</th>\n",
              "      <th>query_hyperthyroid</th>\n",
              "      <th>pregnant</th>\n",
              "      <th>sick</th>\n",
              "      <th>tumor</th>\n",
              "      <th>lithium</th>\n",
              "      <th>goitre</th>\n",
              "      <th>TSH_measured</th>\n",
              "      <th>TSH</th>\n",
              "      <th>T3_measured</th>\n",
              "      <th>T3</th>\n",
              "      <th>TT4_measured</th>\n",
              "      <th>TT4</th>\n",
              "      <th>T4U_measured</th>\n",
              "      <th>T4U</th>\n",
              "      <th>FTI_measured</th>\n",
              "      <th>FTI</th>\n",
              "      <th>TBG_measured</th>\n",
              "      <th>TBG</th>\n",
              "    </tr>\n",
              "  </thead>\n",
              "  <tbody>\n",
              "    <tr>\n",
              "      <th>0</th>\n",
              "      <td>hypothyroid</td>\n",
              "      <td>72</td>\n",
              "      <td>M</td>\n",
              "      <td>f</td>\n",
              "      <td>f</td>\n",
              "      <td>f</td>\n",
              "      <td>f</td>\n",
              "      <td>f</td>\n",
              "      <td>f</td>\n",
              "      <td>f</td>\n",
              "      <td>f</td>\n",
              "      <td>f</td>\n",
              "      <td>f</td>\n",
              "      <td>f</td>\n",
              "      <td>y</td>\n",
              "      <td>30</td>\n",
              "      <td>y</td>\n",
              "      <td>0.60</td>\n",
              "      <td>y</td>\n",
              "      <td>15</td>\n",
              "      <td>y</td>\n",
              "      <td>1.48</td>\n",
              "      <td>y</td>\n",
              "      <td>10</td>\n",
              "      <td>n</td>\n",
              "      <td>?</td>\n",
              "    </tr>\n",
              "    <tr>\n",
              "      <th>1</th>\n",
              "      <td>hypothyroid</td>\n",
              "      <td>15</td>\n",
              "      <td>F</td>\n",
              "      <td>t</td>\n",
              "      <td>f</td>\n",
              "      <td>f</td>\n",
              "      <td>f</td>\n",
              "      <td>f</td>\n",
              "      <td>f</td>\n",
              "      <td>f</td>\n",
              "      <td>f</td>\n",
              "      <td>f</td>\n",
              "      <td>f</td>\n",
              "      <td>f</td>\n",
              "      <td>y</td>\n",
              "      <td>145</td>\n",
              "      <td>y</td>\n",
              "      <td>1.70</td>\n",
              "      <td>y</td>\n",
              "      <td>19</td>\n",
              "      <td>y</td>\n",
              "      <td>1.13</td>\n",
              "      <td>y</td>\n",
              "      <td>17</td>\n",
              "      <td>n</td>\n",
              "      <td>?</td>\n",
              "    </tr>\n",
              "    <tr>\n",
              "      <th>2</th>\n",
              "      <td>hypothyroid</td>\n",
              "      <td>24</td>\n",
              "      <td>M</td>\n",
              "      <td>f</td>\n",
              "      <td>f</td>\n",
              "      <td>f</td>\n",
              "      <td>f</td>\n",
              "      <td>f</td>\n",
              "      <td>f</td>\n",
              "      <td>f</td>\n",
              "      <td>f</td>\n",
              "      <td>f</td>\n",
              "      <td>f</td>\n",
              "      <td>f</td>\n",
              "      <td>y</td>\n",
              "      <td>0</td>\n",
              "      <td>y</td>\n",
              "      <td>0.20</td>\n",
              "      <td>y</td>\n",
              "      <td>4</td>\n",
              "      <td>y</td>\n",
              "      <td>1</td>\n",
              "      <td>y</td>\n",
              "      <td>0</td>\n",
              "      <td>n</td>\n",
              "      <td>?</td>\n",
              "    </tr>\n",
              "    <tr>\n",
              "      <th>3</th>\n",
              "      <td>hypothyroid</td>\n",
              "      <td>24</td>\n",
              "      <td>F</td>\n",
              "      <td>f</td>\n",
              "      <td>f</td>\n",
              "      <td>f</td>\n",
              "      <td>f</td>\n",
              "      <td>f</td>\n",
              "      <td>f</td>\n",
              "      <td>f</td>\n",
              "      <td>f</td>\n",
              "      <td>f</td>\n",
              "      <td>f</td>\n",
              "      <td>f</td>\n",
              "      <td>y</td>\n",
              "      <td>430</td>\n",
              "      <td>y</td>\n",
              "      <td>0.40</td>\n",
              "      <td>y</td>\n",
              "      <td>6</td>\n",
              "      <td>y</td>\n",
              "      <td>1.04</td>\n",
              "      <td>y</td>\n",
              "      <td>6</td>\n",
              "      <td>n</td>\n",
              "      <td>?</td>\n",
              "    </tr>\n",
              "    <tr>\n",
              "      <th>4</th>\n",
              "      <td>hypothyroid</td>\n",
              "      <td>77</td>\n",
              "      <td>M</td>\n",
              "      <td>f</td>\n",
              "      <td>f</td>\n",
              "      <td>f</td>\n",
              "      <td>f</td>\n",
              "      <td>f</td>\n",
              "      <td>f</td>\n",
              "      <td>f</td>\n",
              "      <td>f</td>\n",
              "      <td>f</td>\n",
              "      <td>f</td>\n",
              "      <td>f</td>\n",
              "      <td>y</td>\n",
              "      <td>7.30</td>\n",
              "      <td>y</td>\n",
              "      <td>1.20</td>\n",
              "      <td>y</td>\n",
              "      <td>57</td>\n",
              "      <td>y</td>\n",
              "      <td>1.28</td>\n",
              "      <td>y</td>\n",
              "      <td>44</td>\n",
              "      <td>n</td>\n",
              "      <td>?</td>\n",
              "    </tr>\n",
              "  </tbody>\n",
              "</table>\n",
              "</div>"
            ],
            "text/plain": [
              "        status age sex on_thyroxine  ... FTI_measured FTI TBG_measured TBG\n",
              "0  hypothyroid  72   M            f  ...            y  10            n   ?\n",
              "1  hypothyroid  15   F            t  ...            y  17            n   ?\n",
              "2  hypothyroid  24   M            f  ...            y   0            n   ?\n",
              "3  hypothyroid  24   F            f  ...            y   6            n   ?\n",
              "4  hypothyroid  77   M            f  ...            y  44            n   ?\n",
              "\n",
              "[5 rows x 26 columns]"
            ]
          },
          "metadata": {},
          "execution_count": 3
        }
      ]
    },
    {
      "cell_type": "markdown",
      "metadata": {
        "id": "OI3P3YnHUEBk"
      },
      "source": [
        "## 3. Checking the Data"
      ]
    },
    {
      "cell_type": "code",
      "metadata": {
        "id": "YjSVNwgptHxY",
        "colab": {
          "base_uri": "https://localhost:8080/"
        },
        "outputId": "e0fcc5b2-ba39-4760-90a5-243b7936ab7d"
      },
      "source": [
        "# Determining the no. of records in our dataset\n",
        "#\n",
        "print('The Thyroid Health dataset has: ',thyroid_health.shape[0],'Rows and ',thyroid_health.shape[1],'Columns')"
      ],
      "execution_count": null,
      "outputs": [
        {
          "output_type": "stream",
          "name": "stdout",
          "text": [
            "The Thyroid Health dataset has:  3163 Rows and  26 Columns\n"
          ]
        }
      ]
    },
    {
      "cell_type": "code",
      "metadata": {
        "id": "xHhTw5eKWr0n",
        "colab": {
          "base_uri": "https://localhost:8080/",
          "height": 223
        },
        "outputId": "c9e2f939-102d-42e7-eff6-ff5a05093df0"
      },
      "source": [
        "# Previewing the top of our dataset\n",
        "#\n",
        "thyroid_health.head()"
      ],
      "execution_count": null,
      "outputs": [
        {
          "output_type": "execute_result",
          "data": {
            "text/html": [
              "<div>\n",
              "<style scoped>\n",
              "    .dataframe tbody tr th:only-of-type {\n",
              "        vertical-align: middle;\n",
              "    }\n",
              "\n",
              "    .dataframe tbody tr th {\n",
              "        vertical-align: top;\n",
              "    }\n",
              "\n",
              "    .dataframe thead th {\n",
              "        text-align: right;\n",
              "    }\n",
              "</style>\n",
              "<table border=\"1\" class=\"dataframe\">\n",
              "  <thead>\n",
              "    <tr style=\"text-align: right;\">\n",
              "      <th></th>\n",
              "      <th>status</th>\n",
              "      <th>age</th>\n",
              "      <th>sex</th>\n",
              "      <th>on_thyroxine</th>\n",
              "      <th>query_on_thyroxine</th>\n",
              "      <th>on_antithyroid_medication</th>\n",
              "      <th>thyroid_surgery</th>\n",
              "      <th>query_hypothyroid</th>\n",
              "      <th>query_hyperthyroid</th>\n",
              "      <th>pregnant</th>\n",
              "      <th>sick</th>\n",
              "      <th>tumor</th>\n",
              "      <th>lithium</th>\n",
              "      <th>goitre</th>\n",
              "      <th>TSH_measured</th>\n",
              "      <th>TSH</th>\n",
              "      <th>T3_measured</th>\n",
              "      <th>T3</th>\n",
              "      <th>TT4_measured</th>\n",
              "      <th>TT4</th>\n",
              "      <th>T4U_measured</th>\n",
              "      <th>T4U</th>\n",
              "      <th>FTI_measured</th>\n",
              "      <th>FTI</th>\n",
              "      <th>TBG_measured</th>\n",
              "      <th>TBG</th>\n",
              "    </tr>\n",
              "  </thead>\n",
              "  <tbody>\n",
              "    <tr>\n",
              "      <th>0</th>\n",
              "      <td>hypothyroid</td>\n",
              "      <td>72</td>\n",
              "      <td>M</td>\n",
              "      <td>f</td>\n",
              "      <td>f</td>\n",
              "      <td>f</td>\n",
              "      <td>f</td>\n",
              "      <td>f</td>\n",
              "      <td>f</td>\n",
              "      <td>f</td>\n",
              "      <td>f</td>\n",
              "      <td>f</td>\n",
              "      <td>f</td>\n",
              "      <td>f</td>\n",
              "      <td>y</td>\n",
              "      <td>30</td>\n",
              "      <td>y</td>\n",
              "      <td>0.60</td>\n",
              "      <td>y</td>\n",
              "      <td>15</td>\n",
              "      <td>y</td>\n",
              "      <td>1.48</td>\n",
              "      <td>y</td>\n",
              "      <td>10</td>\n",
              "      <td>n</td>\n",
              "      <td>?</td>\n",
              "    </tr>\n",
              "    <tr>\n",
              "      <th>1</th>\n",
              "      <td>hypothyroid</td>\n",
              "      <td>15</td>\n",
              "      <td>F</td>\n",
              "      <td>t</td>\n",
              "      <td>f</td>\n",
              "      <td>f</td>\n",
              "      <td>f</td>\n",
              "      <td>f</td>\n",
              "      <td>f</td>\n",
              "      <td>f</td>\n",
              "      <td>f</td>\n",
              "      <td>f</td>\n",
              "      <td>f</td>\n",
              "      <td>f</td>\n",
              "      <td>y</td>\n",
              "      <td>145</td>\n",
              "      <td>y</td>\n",
              "      <td>1.70</td>\n",
              "      <td>y</td>\n",
              "      <td>19</td>\n",
              "      <td>y</td>\n",
              "      <td>1.13</td>\n",
              "      <td>y</td>\n",
              "      <td>17</td>\n",
              "      <td>n</td>\n",
              "      <td>?</td>\n",
              "    </tr>\n",
              "    <tr>\n",
              "      <th>2</th>\n",
              "      <td>hypothyroid</td>\n",
              "      <td>24</td>\n",
              "      <td>M</td>\n",
              "      <td>f</td>\n",
              "      <td>f</td>\n",
              "      <td>f</td>\n",
              "      <td>f</td>\n",
              "      <td>f</td>\n",
              "      <td>f</td>\n",
              "      <td>f</td>\n",
              "      <td>f</td>\n",
              "      <td>f</td>\n",
              "      <td>f</td>\n",
              "      <td>f</td>\n",
              "      <td>y</td>\n",
              "      <td>0</td>\n",
              "      <td>y</td>\n",
              "      <td>0.20</td>\n",
              "      <td>y</td>\n",
              "      <td>4</td>\n",
              "      <td>y</td>\n",
              "      <td>1</td>\n",
              "      <td>y</td>\n",
              "      <td>0</td>\n",
              "      <td>n</td>\n",
              "      <td>?</td>\n",
              "    </tr>\n",
              "    <tr>\n",
              "      <th>3</th>\n",
              "      <td>hypothyroid</td>\n",
              "      <td>24</td>\n",
              "      <td>F</td>\n",
              "      <td>f</td>\n",
              "      <td>f</td>\n",
              "      <td>f</td>\n",
              "      <td>f</td>\n",
              "      <td>f</td>\n",
              "      <td>f</td>\n",
              "      <td>f</td>\n",
              "      <td>f</td>\n",
              "      <td>f</td>\n",
              "      <td>f</td>\n",
              "      <td>f</td>\n",
              "      <td>y</td>\n",
              "      <td>430</td>\n",
              "      <td>y</td>\n",
              "      <td>0.40</td>\n",
              "      <td>y</td>\n",
              "      <td>6</td>\n",
              "      <td>y</td>\n",
              "      <td>1.04</td>\n",
              "      <td>y</td>\n",
              "      <td>6</td>\n",
              "      <td>n</td>\n",
              "      <td>?</td>\n",
              "    </tr>\n",
              "    <tr>\n",
              "      <th>4</th>\n",
              "      <td>hypothyroid</td>\n",
              "      <td>77</td>\n",
              "      <td>M</td>\n",
              "      <td>f</td>\n",
              "      <td>f</td>\n",
              "      <td>f</td>\n",
              "      <td>f</td>\n",
              "      <td>f</td>\n",
              "      <td>f</td>\n",
              "      <td>f</td>\n",
              "      <td>f</td>\n",
              "      <td>f</td>\n",
              "      <td>f</td>\n",
              "      <td>f</td>\n",
              "      <td>y</td>\n",
              "      <td>7.30</td>\n",
              "      <td>y</td>\n",
              "      <td>1.20</td>\n",
              "      <td>y</td>\n",
              "      <td>57</td>\n",
              "      <td>y</td>\n",
              "      <td>1.28</td>\n",
              "      <td>y</td>\n",
              "      <td>44</td>\n",
              "      <td>n</td>\n",
              "      <td>?</td>\n",
              "    </tr>\n",
              "  </tbody>\n",
              "</table>\n",
              "</div>"
            ],
            "text/plain": [
              "        status age sex on_thyroxine  ... FTI_measured FTI TBG_measured TBG\n",
              "0  hypothyroid  72   M            f  ...            y  10            n   ?\n",
              "1  hypothyroid  15   F            t  ...            y  17            n   ?\n",
              "2  hypothyroid  24   M            f  ...            y   0            n   ?\n",
              "3  hypothyroid  24   F            f  ...            y   6            n   ?\n",
              "4  hypothyroid  77   M            f  ...            y  44            n   ?\n",
              "\n",
              "[5 rows x 26 columns]"
            ]
          },
          "metadata": {},
          "execution_count": 5
        }
      ]
    },
    {
      "cell_type": "code",
      "metadata": {
        "id": "e9AzGcZFrIIr",
        "colab": {
          "base_uri": "https://localhost:8080/",
          "height": 223
        },
        "outputId": "2fe1df95-218d-4c7c-fde9-ec2f9f55bc05"
      },
      "source": [
        "# Previewing the bottom of our dataset\n",
        "# \n",
        "thyroid_health.tail()"
      ],
      "execution_count": null,
      "outputs": [
        {
          "output_type": "execute_result",
          "data": {
            "text/html": [
              "<div>\n",
              "<style scoped>\n",
              "    .dataframe tbody tr th:only-of-type {\n",
              "        vertical-align: middle;\n",
              "    }\n",
              "\n",
              "    .dataframe tbody tr th {\n",
              "        vertical-align: top;\n",
              "    }\n",
              "\n",
              "    .dataframe thead th {\n",
              "        text-align: right;\n",
              "    }\n",
              "</style>\n",
              "<table border=\"1\" class=\"dataframe\">\n",
              "  <thead>\n",
              "    <tr style=\"text-align: right;\">\n",
              "      <th></th>\n",
              "      <th>status</th>\n",
              "      <th>age</th>\n",
              "      <th>sex</th>\n",
              "      <th>on_thyroxine</th>\n",
              "      <th>query_on_thyroxine</th>\n",
              "      <th>on_antithyroid_medication</th>\n",
              "      <th>thyroid_surgery</th>\n",
              "      <th>query_hypothyroid</th>\n",
              "      <th>query_hyperthyroid</th>\n",
              "      <th>pregnant</th>\n",
              "      <th>sick</th>\n",
              "      <th>tumor</th>\n",
              "      <th>lithium</th>\n",
              "      <th>goitre</th>\n",
              "      <th>TSH_measured</th>\n",
              "      <th>TSH</th>\n",
              "      <th>T3_measured</th>\n",
              "      <th>T3</th>\n",
              "      <th>TT4_measured</th>\n",
              "      <th>TT4</th>\n",
              "      <th>T4U_measured</th>\n",
              "      <th>T4U</th>\n",
              "      <th>FTI_measured</th>\n",
              "      <th>FTI</th>\n",
              "      <th>TBG_measured</th>\n",
              "      <th>TBG</th>\n",
              "    </tr>\n",
              "  </thead>\n",
              "  <tbody>\n",
              "    <tr>\n",
              "      <th>3158</th>\n",
              "      <td>negative</td>\n",
              "      <td>58</td>\n",
              "      <td>F</td>\n",
              "      <td>f</td>\n",
              "      <td>f</td>\n",
              "      <td>f</td>\n",
              "      <td>f</td>\n",
              "      <td>f</td>\n",
              "      <td>f</td>\n",
              "      <td>f</td>\n",
              "      <td>f</td>\n",
              "      <td>f</td>\n",
              "      <td>f</td>\n",
              "      <td>f</td>\n",
              "      <td>y</td>\n",
              "      <td>5.80</td>\n",
              "      <td>y</td>\n",
              "      <td>1.70</td>\n",
              "      <td>y</td>\n",
              "      <td>86</td>\n",
              "      <td>y</td>\n",
              "      <td>0.91</td>\n",
              "      <td>y</td>\n",
              "      <td>95</td>\n",
              "      <td>n</td>\n",
              "      <td>?</td>\n",
              "    </tr>\n",
              "    <tr>\n",
              "      <th>3159</th>\n",
              "      <td>negative</td>\n",
              "      <td>29</td>\n",
              "      <td>F</td>\n",
              "      <td>f</td>\n",
              "      <td>f</td>\n",
              "      <td>f</td>\n",
              "      <td>f</td>\n",
              "      <td>f</td>\n",
              "      <td>f</td>\n",
              "      <td>f</td>\n",
              "      <td>f</td>\n",
              "      <td>f</td>\n",
              "      <td>f</td>\n",
              "      <td>f</td>\n",
              "      <td>y</td>\n",
              "      <td>0.80</td>\n",
              "      <td>y</td>\n",
              "      <td>1.80</td>\n",
              "      <td>y</td>\n",
              "      <td>99</td>\n",
              "      <td>y</td>\n",
              "      <td>1.01</td>\n",
              "      <td>y</td>\n",
              "      <td>98</td>\n",
              "      <td>n</td>\n",
              "      <td>?</td>\n",
              "    </tr>\n",
              "    <tr>\n",
              "      <th>3160</th>\n",
              "      <td>negative</td>\n",
              "      <td>77</td>\n",
              "      <td>M</td>\n",
              "      <td>f</td>\n",
              "      <td>f</td>\n",
              "      <td>f</td>\n",
              "      <td>f</td>\n",
              "      <td>f</td>\n",
              "      <td>f</td>\n",
              "      <td>f</td>\n",
              "      <td>f</td>\n",
              "      <td>f</td>\n",
              "      <td>f</td>\n",
              "      <td>f</td>\n",
              "      <td>y</td>\n",
              "      <td>1.20</td>\n",
              "      <td>y</td>\n",
              "      <td>0.60</td>\n",
              "      <td>y</td>\n",
              "      <td>71</td>\n",
              "      <td>y</td>\n",
              "      <td>0.68</td>\n",
              "      <td>y</td>\n",
              "      <td>104</td>\n",
              "      <td>n</td>\n",
              "      <td>?</td>\n",
              "    </tr>\n",
              "    <tr>\n",
              "      <th>3161</th>\n",
              "      <td>negative</td>\n",
              "      <td>74</td>\n",
              "      <td>F</td>\n",
              "      <td>f</td>\n",
              "      <td>f</td>\n",
              "      <td>f</td>\n",
              "      <td>f</td>\n",
              "      <td>f</td>\n",
              "      <td>f</td>\n",
              "      <td>f</td>\n",
              "      <td>f</td>\n",
              "      <td>f</td>\n",
              "      <td>f</td>\n",
              "      <td>f</td>\n",
              "      <td>y</td>\n",
              "      <td>1.30</td>\n",
              "      <td>y</td>\n",
              "      <td>0.10</td>\n",
              "      <td>y</td>\n",
              "      <td>65</td>\n",
              "      <td>y</td>\n",
              "      <td>0.48</td>\n",
              "      <td>y</td>\n",
              "      <td>137</td>\n",
              "      <td>n</td>\n",
              "      <td>?</td>\n",
              "    </tr>\n",
              "    <tr>\n",
              "      <th>3162</th>\n",
              "      <td>negative</td>\n",
              "      <td>56</td>\n",
              "      <td>F</td>\n",
              "      <td>t</td>\n",
              "      <td>f</td>\n",
              "      <td>f</td>\n",
              "      <td>f</td>\n",
              "      <td>f</td>\n",
              "      <td>f</td>\n",
              "      <td>f</td>\n",
              "      <td>f</td>\n",
              "      <td>f</td>\n",
              "      <td>f</td>\n",
              "      <td>f</td>\n",
              "      <td>y</td>\n",
              "      <td>0</td>\n",
              "      <td>y</td>\n",
              "      <td>1.80</td>\n",
              "      <td>y</td>\n",
              "      <td>139</td>\n",
              "      <td>y</td>\n",
              "      <td>0.97</td>\n",
              "      <td>y</td>\n",
              "      <td>143</td>\n",
              "      <td>n</td>\n",
              "      <td>?</td>\n",
              "    </tr>\n",
              "  </tbody>\n",
              "</table>\n",
              "</div>"
            ],
            "text/plain": [
              "        status age sex on_thyroxine  ... FTI_measured  FTI TBG_measured TBG\n",
              "3158  negative  58   F            f  ...            y   95            n   ?\n",
              "3159  negative  29   F            f  ...            y   98            n   ?\n",
              "3160  negative  77   M            f  ...            y  104            n   ?\n",
              "3161  negative  74   F            f  ...            y  137            n   ?\n",
              "3162  negative  56   F            t  ...            y  143            n   ?\n",
              "\n",
              "[5 rows x 26 columns]"
            ]
          },
          "metadata": {},
          "execution_count": 6
        }
      ]
    },
    {
      "cell_type": "code",
      "metadata": {
        "id": "n8-dW4sQWzbc",
        "colab": {
          "base_uri": "https://localhost:8080/"
        },
        "outputId": "fb111531-bc80-4eae-89f3-7fbe76514200"
      },
      "source": [
        "# Checking whether each column has an appropriate datatype\n",
        "#\n",
        "thyroid_health.info()"
      ],
      "execution_count": null,
      "outputs": [
        {
          "output_type": "stream",
          "name": "stdout",
          "text": [
            "<class 'pandas.core.frame.DataFrame'>\n",
            "RangeIndex: 3163 entries, 0 to 3162\n",
            "Data columns (total 26 columns):\n",
            " #   Column                     Non-Null Count  Dtype \n",
            "---  ------                     --------------  ----- \n",
            " 0   status                     3163 non-null   object\n",
            " 1   age                        3163 non-null   object\n",
            " 2   sex                        3163 non-null   object\n",
            " 3   on_thyroxine               3163 non-null   object\n",
            " 4   query_on_thyroxine         3163 non-null   object\n",
            " 5   on_antithyroid_medication  3163 non-null   object\n",
            " 6   thyroid_surgery            3163 non-null   object\n",
            " 7   query_hypothyroid          3163 non-null   object\n",
            " 8   query_hyperthyroid         3163 non-null   object\n",
            " 9   pregnant                   3163 non-null   object\n",
            " 10  sick                       3163 non-null   object\n",
            " 11  tumor                      3163 non-null   object\n",
            " 12  lithium                    3163 non-null   object\n",
            " 13  goitre                     3163 non-null   object\n",
            " 14  TSH_measured               3163 non-null   object\n",
            " 15  TSH                        3163 non-null   object\n",
            " 16  T3_measured                3163 non-null   object\n",
            " 17  T3                         3163 non-null   object\n",
            " 18  TT4_measured               3163 non-null   object\n",
            " 19  TT4                        3163 non-null   object\n",
            " 20  T4U_measured               3163 non-null   object\n",
            " 21  T4U                        3163 non-null   object\n",
            " 22  FTI_measured               3163 non-null   object\n",
            " 23  FTI                        3163 non-null   object\n",
            " 24  TBG_measured               3163 non-null   object\n",
            " 25  TBG                        3163 non-null   object\n",
            "dtypes: object(26)\n",
            "memory usage: 642.6+ KB\n"
          ]
        }
      ]
    },
    {
      "cell_type": "markdown",
      "metadata": {
        "id": "ckfufNrcUHeH"
      },
      "source": [
        "## 4. External Data Source Validation"
      ]
    },
    {
      "cell_type": "markdown",
      "metadata": {
        "id": "6XC_g-zKxe-r"
      },
      "source": [
        "### a.Validation\n",
        "\n",
        "The following link gives a summary of the various thyroid tests [thyroid_tests](https://https://www.niddk.nih.gov/health-information/diagnostic-tests/thyroid)"
      ]
    },
    {
      "cell_type": "markdown",
      "metadata": {
        "id": "FlBMxEDBUc9B"
      },
      "source": [
        "## 5. Tidying the Dataset"
      ]
    },
    {
      "cell_type": "code",
      "metadata": {
        "colab": {
          "base_uri": "https://localhost:8080/"
        },
        "id": "WagbisK3q-5Q",
        "outputId": "17f64642-9770-4a7f-9d1d-b47f0325e4db"
      },
      "source": [
        "thyroid_health.columns"
      ],
      "execution_count": 8,
      "outputs": [
        {
          "output_type": "execute_result",
          "data": {
            "text/plain": [
              "Index(['status', 'age', 'sex', 'on_thyroxine', 'query_on_thyroxine',\n",
              "       'on_antithyroid_medication', 'thyroid_surgery', 'query_hypothyroid',\n",
              "       'query_hyperthyroid', 'pregnant', 'sick', 'tumor', 'lithium', 'goitre',\n",
              "       'TSH_measured', 'TSH', 'T3_measured', 'T3', 'TT4_measured', 'TT4',\n",
              "       'T4U_measured', 'T4U', 'FTI_measured', 'FTI', 'TBG_measured', 'TBG'],\n",
              "      dtype='object')"
            ]
          },
          "metadata": {},
          "execution_count": 8
        }
      ]
    },
    {
      "cell_type": "code",
      "metadata": {
        "colab": {
          "base_uri": "https://localhost:8080/"
        },
        "id": "lXnBCwwLth9f",
        "outputId": "81b9e695-3a8d-4e13-907b-8e2c7cb3c989"
      },
      "source": [
        "# Changing the data types for numeric columns to int format\n",
        "#\n",
        "\n",
        "thyroid_health[['age','TSH','T3','TT4','T4U','FTI','TBG']]=thyroid_health[['age','TSH','T3','TT4','T4U','FTI','TBG']].apply(pd.to_numeric,errors='coerce')\n",
        "thyroid_health.dtypes"
      ],
      "execution_count": 12,
      "outputs": [
        {
          "output_type": "execute_result",
          "data": {
            "text/plain": [
              "status                        object\n",
              "age                          float64\n",
              "sex                           object\n",
              "on_thyroxine                  object\n",
              "query_on_thyroxine            object\n",
              "on_antithyroid_medication     object\n",
              "thyroid_surgery               object\n",
              "query_hypothyroid             object\n",
              "query_hyperthyroid            object\n",
              "pregnant                      object\n",
              "sick                          object\n",
              "tumor                         object\n",
              "lithium                       object\n",
              "goitre                        object\n",
              "TSH_measured                  object\n",
              "TSH                          float64\n",
              "T3_measured                   object\n",
              "T3                           float64\n",
              "TT4_measured                  object\n",
              "TT4                          float64\n",
              "T4U_measured                  object\n",
              "T4U                          float64\n",
              "FTI_measured                  object\n",
              "FTI                          float64\n",
              "TBG_measured                  object\n",
              "TBG                          float64\n",
              "dtype: object"
            ]
          },
          "metadata": {},
          "execution_count": 12
        }
      ]
    },
    {
      "cell_type": "code",
      "metadata": {
        "colab": {
          "base_uri": "https://localhost:8080/"
        },
        "id": "n9836NierLnR",
        "outputId": "112eab56-43f7-4760-e34f-7d3e3ee5369e"
      },
      "source": [
        "# Fetching the columns with numerical data\n",
        "#\n",
        "numerical_cols = [col for col in thyroid_health if thyroid_health[col].dtypes !='O']\n",
        "numerical_cols"
      ],
      "execution_count": 13,
      "outputs": [
        {
          "output_type": "execute_result",
          "data": {
            "text/plain": [
              "['age', 'TSH', 'T3', 'TT4', 'T4U', 'FTI', 'TBG']"
            ]
          },
          "metadata": {},
          "execution_count": 13
        }
      ]
    },
    {
      "cell_type": "code",
      "metadata": {
        "colab": {
          "base_uri": "https://localhost:8080/"
        },
        "id": "HRMHu6wCsFEh",
        "outputId": "5f95ed91-1073-464c-d96e-5ca97480b220"
      },
      "source": [
        "# Fetching the columns with categorical data\n",
        "#\n",
        "categorical_cols = [col for col in thyroid_health if thyroid_health[col].dtypes == 'O']\n",
        "categorical_cols"
      ],
      "execution_count": 14,
      "outputs": [
        {
          "output_type": "execute_result",
          "data": {
            "text/plain": [
              "['status',\n",
              " 'sex',\n",
              " 'on_thyroxine',\n",
              " 'query_on_thyroxine',\n",
              " 'on_antithyroid_medication',\n",
              " 'thyroid_surgery',\n",
              " 'query_hypothyroid',\n",
              " 'query_hyperthyroid',\n",
              " 'pregnant',\n",
              " 'sick',\n",
              " 'tumor',\n",
              " 'lithium',\n",
              " 'goitre',\n",
              " 'TSH_measured',\n",
              " 'T3_measured',\n",
              " 'TT4_measured',\n",
              " 'T4U_measured',\n",
              " 'FTI_measured',\n",
              " 'TBG_measured']"
            ]
          },
          "metadata": {},
          "execution_count": 14
        }
      ]
    },
    {
      "cell_type": "code",
      "metadata": {
        "colab": {
          "base_uri": "https://localhost:8080/",
          "height": 223
        },
        "id": "h0ZEVHfduL8J",
        "outputId": "3927d53b-de56-41ac-ea5b-d153ea014248"
      },
      "source": [
        "thyroid_health.head()"
      ],
      "execution_count": 15,
      "outputs": [
        {
          "output_type": "execute_result",
          "data": {
            "text/html": [
              "<div>\n",
              "<style scoped>\n",
              "    .dataframe tbody tr th:only-of-type {\n",
              "        vertical-align: middle;\n",
              "    }\n",
              "\n",
              "    .dataframe tbody tr th {\n",
              "        vertical-align: top;\n",
              "    }\n",
              "\n",
              "    .dataframe thead th {\n",
              "        text-align: right;\n",
              "    }\n",
              "</style>\n",
              "<table border=\"1\" class=\"dataframe\">\n",
              "  <thead>\n",
              "    <tr style=\"text-align: right;\">\n",
              "      <th></th>\n",
              "      <th>status</th>\n",
              "      <th>age</th>\n",
              "      <th>sex</th>\n",
              "      <th>on_thyroxine</th>\n",
              "      <th>query_on_thyroxine</th>\n",
              "      <th>on_antithyroid_medication</th>\n",
              "      <th>thyroid_surgery</th>\n",
              "      <th>query_hypothyroid</th>\n",
              "      <th>query_hyperthyroid</th>\n",
              "      <th>pregnant</th>\n",
              "      <th>sick</th>\n",
              "      <th>tumor</th>\n",
              "      <th>lithium</th>\n",
              "      <th>goitre</th>\n",
              "      <th>TSH_measured</th>\n",
              "      <th>TSH</th>\n",
              "      <th>T3_measured</th>\n",
              "      <th>T3</th>\n",
              "      <th>TT4_measured</th>\n",
              "      <th>TT4</th>\n",
              "      <th>T4U_measured</th>\n",
              "      <th>T4U</th>\n",
              "      <th>FTI_measured</th>\n",
              "      <th>FTI</th>\n",
              "      <th>TBG_measured</th>\n",
              "      <th>TBG</th>\n",
              "    </tr>\n",
              "  </thead>\n",
              "  <tbody>\n",
              "    <tr>\n",
              "      <th>0</th>\n",
              "      <td>hypothyroid</td>\n",
              "      <td>72.0</td>\n",
              "      <td>M</td>\n",
              "      <td>f</td>\n",
              "      <td>f</td>\n",
              "      <td>f</td>\n",
              "      <td>f</td>\n",
              "      <td>f</td>\n",
              "      <td>f</td>\n",
              "      <td>f</td>\n",
              "      <td>f</td>\n",
              "      <td>f</td>\n",
              "      <td>f</td>\n",
              "      <td>f</td>\n",
              "      <td>y</td>\n",
              "      <td>30.0</td>\n",
              "      <td>y</td>\n",
              "      <td>0.6</td>\n",
              "      <td>y</td>\n",
              "      <td>15.0</td>\n",
              "      <td>y</td>\n",
              "      <td>1.48</td>\n",
              "      <td>y</td>\n",
              "      <td>10.0</td>\n",
              "      <td>n</td>\n",
              "      <td>NaN</td>\n",
              "    </tr>\n",
              "    <tr>\n",
              "      <th>1</th>\n",
              "      <td>hypothyroid</td>\n",
              "      <td>15.0</td>\n",
              "      <td>F</td>\n",
              "      <td>t</td>\n",
              "      <td>f</td>\n",
              "      <td>f</td>\n",
              "      <td>f</td>\n",
              "      <td>f</td>\n",
              "      <td>f</td>\n",
              "      <td>f</td>\n",
              "      <td>f</td>\n",
              "      <td>f</td>\n",
              "      <td>f</td>\n",
              "      <td>f</td>\n",
              "      <td>y</td>\n",
              "      <td>145.0</td>\n",
              "      <td>y</td>\n",
              "      <td>1.7</td>\n",
              "      <td>y</td>\n",
              "      <td>19.0</td>\n",
              "      <td>y</td>\n",
              "      <td>1.13</td>\n",
              "      <td>y</td>\n",
              "      <td>17.0</td>\n",
              "      <td>n</td>\n",
              "      <td>NaN</td>\n",
              "    </tr>\n",
              "    <tr>\n",
              "      <th>2</th>\n",
              "      <td>hypothyroid</td>\n",
              "      <td>24.0</td>\n",
              "      <td>M</td>\n",
              "      <td>f</td>\n",
              "      <td>f</td>\n",
              "      <td>f</td>\n",
              "      <td>f</td>\n",
              "      <td>f</td>\n",
              "      <td>f</td>\n",
              "      <td>f</td>\n",
              "      <td>f</td>\n",
              "      <td>f</td>\n",
              "      <td>f</td>\n",
              "      <td>f</td>\n",
              "      <td>y</td>\n",
              "      <td>0.0</td>\n",
              "      <td>y</td>\n",
              "      <td>0.2</td>\n",
              "      <td>y</td>\n",
              "      <td>4.0</td>\n",
              "      <td>y</td>\n",
              "      <td>1.00</td>\n",
              "      <td>y</td>\n",
              "      <td>0.0</td>\n",
              "      <td>n</td>\n",
              "      <td>NaN</td>\n",
              "    </tr>\n",
              "    <tr>\n",
              "      <th>3</th>\n",
              "      <td>hypothyroid</td>\n",
              "      <td>24.0</td>\n",
              "      <td>F</td>\n",
              "      <td>f</td>\n",
              "      <td>f</td>\n",
              "      <td>f</td>\n",
              "      <td>f</td>\n",
              "      <td>f</td>\n",
              "      <td>f</td>\n",
              "      <td>f</td>\n",
              "      <td>f</td>\n",
              "      <td>f</td>\n",
              "      <td>f</td>\n",
              "      <td>f</td>\n",
              "      <td>y</td>\n",
              "      <td>430.0</td>\n",
              "      <td>y</td>\n",
              "      <td>0.4</td>\n",
              "      <td>y</td>\n",
              "      <td>6.0</td>\n",
              "      <td>y</td>\n",
              "      <td>1.04</td>\n",
              "      <td>y</td>\n",
              "      <td>6.0</td>\n",
              "      <td>n</td>\n",
              "      <td>NaN</td>\n",
              "    </tr>\n",
              "    <tr>\n",
              "      <th>4</th>\n",
              "      <td>hypothyroid</td>\n",
              "      <td>77.0</td>\n",
              "      <td>M</td>\n",
              "      <td>f</td>\n",
              "      <td>f</td>\n",
              "      <td>f</td>\n",
              "      <td>f</td>\n",
              "      <td>f</td>\n",
              "      <td>f</td>\n",
              "      <td>f</td>\n",
              "      <td>f</td>\n",
              "      <td>f</td>\n",
              "      <td>f</td>\n",
              "      <td>f</td>\n",
              "      <td>y</td>\n",
              "      <td>7.3</td>\n",
              "      <td>y</td>\n",
              "      <td>1.2</td>\n",
              "      <td>y</td>\n",
              "      <td>57.0</td>\n",
              "      <td>y</td>\n",
              "      <td>1.28</td>\n",
              "      <td>y</td>\n",
              "      <td>44.0</td>\n",
              "      <td>n</td>\n",
              "      <td>NaN</td>\n",
              "    </tr>\n",
              "  </tbody>\n",
              "</table>\n",
              "</div>"
            ],
            "text/plain": [
              "        status   age sex on_thyroxine  ... FTI_measured   FTI TBG_measured TBG\n",
              "0  hypothyroid  72.0   M            f  ...            y  10.0            n NaN\n",
              "1  hypothyroid  15.0   F            t  ...            y  17.0            n NaN\n",
              "2  hypothyroid  24.0   M            f  ...            y   0.0            n NaN\n",
              "3  hypothyroid  24.0   F            f  ...            y   6.0            n NaN\n",
              "4  hypothyroid  77.0   M            f  ...            y  44.0            n NaN\n",
              "\n",
              "[5 rows x 26 columns]"
            ]
          },
          "metadata": {},
          "execution_count": 15
        }
      ]
    },
    {
      "cell_type": "code",
      "metadata": {
        "id": "5o_bQcT5W3Wz"
      },
      "source": [
        "# Checking for Outliers\n",
        "#\n"
      ],
      "execution_count": null,
      "outputs": []
    },
    {
      "cell_type": "code",
      "metadata": {
        "id": "PWlukLKUvFQN"
      },
      "source": [
        "# Checking for Anomalies\n",
        "#"
      ],
      "execution_count": null,
      "outputs": []
    },
    {
      "cell_type": "code",
      "metadata": {
        "id": "PvCYb6dgW4yh"
      },
      "source": [
        "# Identifying the Missing Data\n",
        "#"
      ],
      "execution_count": null,
      "outputs": []
    },
    {
      "cell_type": "code",
      "metadata": {
        "id": "MpsDGKZHsf_W"
      },
      "source": [
        "# Dealing with the Missing Data\n",
        "#"
      ],
      "execution_count": null,
      "outputs": []
    },
    {
      "cell_type": "code",
      "metadata": {
        "id": "D-4I__6Os4C5"
      },
      "source": [
        "# More data cleaning procedures\n",
        "#"
      ],
      "execution_count": null,
      "outputs": []
    },
    {
      "cell_type": "markdown",
      "metadata": {
        "id": "rF2ABPsHUtbZ"
      },
      "source": [
        "## 6. Exploratory Analysis"
      ]
    },
    {
      "cell_type": "code",
      "metadata": {
        "id": "5nnRToniXGDK"
      },
      "source": [
        "# Ploting the bivariate summaries and recording our observations\n",
        "#"
      ],
      "execution_count": null,
      "outputs": []
    },
    {
      "cell_type": "code",
      "metadata": {
        "id": "6UzyQC6kmdBi"
      },
      "source": [
        "# Data Reduction\n",
        "#"
      ],
      "execution_count": null,
      "outputs": []
    },
    {
      "cell_type": "markdown",
      "metadata": {
        "id": "vTbdjSrhVIiT"
      },
      "source": [
        "## 7. Implementing the Solution"
      ]
    },
    {
      "cell_type": "code",
      "metadata": {
        "id": "PJLZaRzJXJ3w"
      },
      "source": [
        "# Implementing the Solution\n",
        "# "
      ],
      "execution_count": null,
      "outputs": []
    },
    {
      "cell_type": "markdown",
      "metadata": {
        "id": "lQ2G4ZPDVOXE"
      },
      "source": [
        "## 8. Challenging the solution"
      ]
    },
    {
      "cell_type": "markdown",
      "metadata": {
        "id": "jWVGKGuiYMWg"
      },
      "source": [
        "> The easy solution is nice because it is, well, easy, but you should never allow those results to hold the day. You should always be thinking of ways to challenge the results, especially if those results comport with your prior expectation.\n",
        "\n",
        "\n",
        "\n",
        "\n"
      ]
    },
    {
      "cell_type": "code",
      "metadata": {
        "id": "j3x3SXZ4XT_L"
      },
      "source": [
        "# Reviewing the Solution \n",
        "#"
      ],
      "execution_count": null,
      "outputs": []
    },
    {
      "cell_type": "markdown",
      "metadata": {
        "id": "xrmHVMVsVS--"
      },
      "source": [
        "## 9. Follow up questions"
      ]
    },
    {
      "cell_type": "markdown",
      "metadata": {
        "id": "pth2qSWhuBIy"
      },
      "source": [
        "> At this point, we can refine our question or collect new data, all in an iterative process to get at the truth.\n",
        "\n"
      ]
    },
    {
      "cell_type": "markdown",
      "metadata": {
        "id": "HPQviDmNtta8"
      },
      "source": [
        "### a). Did we have the right data?"
      ]
    },
    {
      "cell_type": "markdown",
      "metadata": {
        "id": "qjFHK1CKty7o"
      },
      "source": [
        "### b). Do we need other data to answer our question?"
      ]
    },
    {
      "cell_type": "markdown",
      "metadata": {
        "id": "HSsicSdvt4Zs"
      },
      "source": [
        "### c). Did we have the right question?"
      ]
    }
  ]
}